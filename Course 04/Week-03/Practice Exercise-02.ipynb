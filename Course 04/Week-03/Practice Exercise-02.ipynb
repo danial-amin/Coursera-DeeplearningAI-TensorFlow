{
  "nbformat": 4,
  "nbformat_minor": 0,
  "metadata": {
    "colab": {
      "name": "S+P Week 3 Lesson 4 - LSTM.ipynb",
      "provenance": [],
      "collapsed_sections": [],
      "toc_visible": true
    },
    "kernelspec": {
      "display_name": "Python 3",
      "name": "python3"
    }
  },
  "cells": [
    {
      "cell_type": "code",
      "metadata": {
        "id": "zX4Kg8DUTKWO"
      },
      "source": [
        "#@title Licensed under the Apache License, Version 2.0 (the \"License\");\n",
        "# you may not use this file except in compliance with the License.\n",
        "# You may obtain a copy of the License at\n",
        "#\n",
        "# https://www.apache.org/licenses/LICENSE-2.0\n",
        "#\n",
        "# Unless required by applicable law or agreed to in writing, software\n",
        "# distributed under the License is distributed on an \"AS IS\" BASIS,\n",
        "# WITHOUT WARRANTIES OR CONDITIONS OF ANY KIND, either express or implied.\n",
        "# See the License for the specific language governing permissions and\n",
        "# limitations under the License."
      ],
      "execution_count": 1,
      "outputs": []
    },
    {
      "cell_type": "code",
      "metadata": {
        "colab": {
          "base_uri": "https://localhost:8080/"
        },
        "id": "D1J15Vh_1Jih",
        "outputId": "699e2240-c407-40f8-8d40-e3708489a2a1"
      },
      "source": [
        "!pip install tf-nightly-2.0-preview\n"
      ],
      "execution_count": 2,
      "outputs": [
        {
          "output_type": "stream",
          "text": [
            "\u001b[31mERROR: Could not find a version that satisfies the requirement tf-nightly-2.0-preview (from versions: none)\u001b[0m\n",
            "\u001b[31mERROR: No matching distribution found for tf-nightly-2.0-preview\u001b[0m\n"
          ],
          "name": "stdout"
        }
      ]
    },
    {
      "cell_type": "code",
      "metadata": {
        "colab": {
          "base_uri": "https://localhost:8080/"
        },
        "id": "BOjujz601HcS",
        "outputId": "eefe7d7b-67a1-4aae-9dae-4d515e73c375"
      },
      "source": [
        "import tensorflow as tf\n",
        "import numpy as np\n",
        "import matplotlib.pyplot as plt\n",
        "print(tf.__version__)"
      ],
      "execution_count": 3,
      "outputs": [
        {
          "output_type": "stream",
          "text": [
            "2.4.1\n"
          ],
          "name": "stdout"
        }
      ]
    },
    {
      "cell_type": "code",
      "metadata": {
        "id": "Zswl7jRtGzkk"
      },
      "source": [
        "def plot_series(time, series, format=\"-\", start=0, end=None):\n",
        "    plt.plot(time[start:end], series[start:end], format)\n",
        "    plt.xlabel(\"Time\")\n",
        "    plt.ylabel(\"Value\")\n",
        "    plt.grid(True)\n",
        "\n",
        "def trend(time, slope=0):\n",
        "    return slope * time\n",
        "\n",
        "def seasonal_pattern(season_time):\n",
        "    \"\"\"Just an arbitrary pattern, you can change it if you wish\"\"\"\n",
        "    return np.where(season_time < 0.4,\n",
        "                    np.cos(season_time * 2 * np.pi),\n",
        "                    1 / np.exp(3 * season_time))\n",
        "\n",
        "def seasonality(time, period, amplitude=1, phase=0):\n",
        "    \"\"\"Repeats the same pattern at each period\"\"\"\n",
        "    season_time = ((time + phase) % period) / period\n",
        "    return amplitude * seasonal_pattern(season_time)\n",
        "\n",
        "def noise(time, noise_level=1, seed=None):\n",
        "    rnd = np.random.RandomState(seed)\n",
        "    return rnd.randn(len(time)) * noise_level\n",
        "\n",
        "time = np.arange(4 * 365 + 1, dtype=\"float32\")\n",
        "baseline = 10\n",
        "series = trend(time, 0.1)  \n",
        "baseline = 10\n",
        "amplitude = 40\n",
        "slope = 0.05\n",
        "noise_level = 5\n",
        "\n",
        "# Create the series\n",
        "series = baseline + trend(time, slope) + seasonality(time, period=365, amplitude=amplitude)\n",
        "# Update with noise\n",
        "series += noise(time, noise_level, seed=42)\n",
        "\n",
        "split_time = 1000\n",
        "time_train = time[:split_time]\n",
        "x_train = series[:split_time]\n",
        "time_valid = time[split_time:]\n",
        "x_valid = series[split_time:]\n",
        "\n",
        "window_size = 20\n",
        "batch_size = 32\n",
        "shuffle_buffer_size = 1000"
      ],
      "execution_count": 4,
      "outputs": []
    },
    {
      "cell_type": "code",
      "metadata": {
        "id": "4sTTIOCbyShY"
      },
      "source": [
        "def windowed_dataset(series, window_size, batch_size, shuffle_buffer):\n",
        "  dataset = tf.data.Dataset.from_tensor_slices(series)\n",
        "  dataset = dataset.window(window_size + 1, shift=1, drop_remainder=True)\n",
        "  dataset = dataset.flat_map(lambda window: window.batch(window_size + 1))\n",
        "  dataset = dataset.shuffle(shuffle_buffer).map(lambda window: (window[:-1], window[-1]))\n",
        "  dataset = dataset.batch(batch_size).prefetch(1)\n",
        "  return dataset"
      ],
      "execution_count": 5,
      "outputs": []
    },
    {
      "cell_type": "code",
      "metadata": {
        "colab": {
          "base_uri": "https://localhost:8080/"
        },
        "id": "A1Hl39rklkLm",
        "outputId": "b679014e-43be-4c05-9f77-3a0dd5493fc5"
      },
      "source": [
        "tf.keras.backend.clear_session()\n",
        "tf.random.set_seed(51)\n",
        "np.random.seed(51)\n",
        "\n",
        "tf.keras.backend.clear_session()\n",
        "dataset = windowed_dataset(x_train, window_size, batch_size, shuffle_buffer_size)\n",
        "\n",
        "model = tf.keras.models.Sequential([\n",
        "  tf.keras.layers.Lambda(lambda x: tf.expand_dims(x, axis=-1),\n",
        "                      input_shape=[None]),\n",
        "    tf.keras.layers.Bidirectional(tf.keras.layers.LSTM(32, return_sequences=True)),\n",
        "  tf.keras.layers.Bidirectional(tf.keras.layers.LSTM(32)),\n",
        "  tf.keras.layers.Dense(1),\n",
        "  tf.keras.layers.Lambda(lambda x: x * 100.0)\n",
        "])\n",
        "\n",
        "lr_schedule = tf.keras.callbacks.LearningRateScheduler(\n",
        "    lambda epoch: 1e-8 * 10**(epoch / 20))\n",
        "optimizer = tf.keras.optimizers.SGD(lr=1e-8, momentum=0.9)\n",
        "model.compile(loss=tf.keras.losses.Huber(),\n",
        "              optimizer=optimizer,\n",
        "              metrics=[\"mae\"])\n",
        "history = model.fit(dataset, epochs=100, callbacks=[lr_schedule])"
      ],
      "execution_count": 6,
      "outputs": [
        {
          "output_type": "stream",
          "text": [
            "Epoch 1/100\n",
            "31/31 [==============================] - 7s 30ms/step - loss: 21.9679 - mae: 22.4630\n",
            "Epoch 2/100\n",
            "31/31 [==============================] - 1s 30ms/step - loss: 21.0787 - mae: 21.5699\n",
            "Epoch 3/100\n",
            "31/31 [==============================] - 1s 29ms/step - loss: 19.9720 - mae: 20.4666\n",
            "Epoch 4/100\n",
            "31/31 [==============================] - 1s 29ms/step - loss: 20.5891 - mae: 21.0813\n",
            "Epoch 5/100\n",
            "31/31 [==============================] - 1s 27ms/step - loss: 20.2777 - mae: 20.7735\n",
            "Epoch 6/100\n",
            "31/31 [==============================] - 1s 29ms/step - loss: 19.6437 - mae: 20.1366\n",
            "Epoch 7/100\n",
            "31/31 [==============================] - 1s 28ms/step - loss: 18.2940 - mae: 18.7848\n",
            "Epoch 8/100\n",
            "31/31 [==============================] - 1s 26ms/step - loss: 17.2657 - mae: 17.7576\n",
            "Epoch 9/100\n",
            "31/31 [==============================] - 1s 26ms/step - loss: 17.4906 - mae: 17.9840\n",
            "Epoch 10/100\n",
            "31/31 [==============================] - 1s 28ms/step - loss: 16.8689 - mae: 17.3590\n",
            "Epoch 11/100\n",
            "31/31 [==============================] - 1s 27ms/step - loss: 16.4564 - mae: 16.9496\n",
            "Epoch 12/100\n",
            "31/31 [==============================] - 1s 27ms/step - loss: 16.1107 - mae: 16.6051\n",
            "Epoch 13/100\n",
            "31/31 [==============================] - 1s 27ms/step - loss: 15.9437 - mae: 16.4400\n",
            "Epoch 14/100\n",
            "31/31 [==============================] - 1s 27ms/step - loss: 16.2057 - mae: 16.7015\n",
            "Epoch 15/100\n",
            "31/31 [==============================] - 1s 27ms/step - loss: 16.2997 - mae: 16.7944\n",
            "Epoch 16/100\n",
            "31/31 [==============================] - 1s 28ms/step - loss: 15.2008 - mae: 15.6951\n",
            "Epoch 17/100\n",
            "31/31 [==============================] - 1s 28ms/step - loss: 14.6605 - mae: 15.1572\n",
            "Epoch 18/100\n",
            "31/31 [==============================] - 1s 28ms/step - loss: 14.7761 - mae: 15.2720\n",
            "Epoch 19/100\n",
            "31/31 [==============================] - 1s 27ms/step - loss: 14.4512 - mae: 14.9444\n",
            "Epoch 20/100\n",
            "31/31 [==============================] - 1s 27ms/step - loss: 14.5195 - mae: 15.0117\n",
            "Epoch 21/100\n",
            "31/31 [==============================] - 1s 28ms/step - loss: 13.5757 - mae: 14.0695\n",
            "Epoch 22/100\n",
            "31/31 [==============================] - 1s 28ms/step - loss: 13.5288 - mae: 14.0247\n",
            "Epoch 23/100\n",
            "31/31 [==============================] - 1s 28ms/step - loss: 12.7991 - mae: 13.2927\n",
            "Epoch 24/100\n",
            "31/31 [==============================] - 1s 29ms/step - loss: 12.9368 - mae: 13.4304\n",
            "Epoch 25/100\n",
            "31/31 [==============================] - 1s 28ms/step - loss: 13.4398 - mae: 13.9332\n",
            "Epoch 26/100\n",
            "31/31 [==============================] - 1s 28ms/step - loss: 12.5766 - mae: 13.0663\n",
            "Epoch 27/100\n",
            "31/31 [==============================] - 1s 29ms/step - loss: 12.4469 - mae: 12.9387\n",
            "Epoch 28/100\n",
            "31/31 [==============================] - 1s 28ms/step - loss: 12.0455 - mae: 12.5353\n",
            "Epoch 29/100\n",
            "31/31 [==============================] - 1s 28ms/step - loss: 11.7434 - mae: 12.2307\n",
            "Epoch 30/100\n",
            "31/31 [==============================] - 1s 27ms/step - loss: 12.1353 - mae: 12.6266\n",
            "Epoch 31/100\n",
            "31/31 [==============================] - 1s 27ms/step - loss: 10.5933 - mae: 11.0832\n",
            "Epoch 32/100\n",
            "31/31 [==============================] - 1s 27ms/step - loss: 11.3526 - mae: 11.8427\n",
            "Epoch 33/100\n",
            "31/31 [==============================] - 1s 27ms/step - loss: 10.6144 - mae: 11.1091\n",
            "Epoch 34/100\n",
            "31/31 [==============================] - 1s 27ms/step - loss: 10.3746 - mae: 10.8637\n",
            "Epoch 35/100\n",
            "31/31 [==============================] - 1s 26ms/step - loss: 10.0721 - mae: 10.5544\n",
            "Epoch 36/100\n",
            "31/31 [==============================] - 1s 26ms/step - loss: 10.0370 - mae: 10.5284\n",
            "Epoch 37/100\n",
            "31/31 [==============================] - 1s 26ms/step - loss: 10.2288 - mae: 10.7195\n",
            "Epoch 38/100\n",
            "31/31 [==============================] - 1s 27ms/step - loss: 9.4477 - mae: 9.9362\n",
            "Epoch 39/100\n",
            "31/31 [==============================] - 1s 25ms/step - loss: 9.0619 - mae: 9.5461\n",
            "Epoch 40/100\n",
            "31/31 [==============================] - 1s 26ms/step - loss: 8.1784 - mae: 8.6662\n",
            "Epoch 41/100\n",
            "31/31 [==============================] - 1s 26ms/step - loss: 8.4712 - mae: 8.9560\n",
            "Epoch 42/100\n",
            "31/31 [==============================] - 1s 25ms/step - loss: 7.7667 - mae: 8.2487\n",
            "Epoch 43/100\n",
            "31/31 [==============================] - 1s 26ms/step - loss: 7.4695 - mae: 7.9538\n",
            "Epoch 44/100\n",
            "31/31 [==============================] - 1s 28ms/step - loss: 7.1846 - mae: 7.6678\n",
            "Epoch 45/100\n",
            "31/31 [==============================] - 1s 27ms/step - loss: 7.2211 - mae: 7.7071\n",
            "Epoch 46/100\n",
            "31/31 [==============================] - 1s 29ms/step - loss: 6.7281 - mae: 7.2080\n",
            "Epoch 47/100\n",
            "31/31 [==============================] - 1s 28ms/step - loss: 6.8506 - mae: 7.3373\n",
            "Epoch 48/100\n",
            "31/31 [==============================] - 1s 29ms/step - loss: 6.3820 - mae: 6.8607\n",
            "Epoch 49/100\n",
            "31/31 [==============================] - 1s 28ms/step - loss: 6.2026 - mae: 6.6787\n",
            "Epoch 50/100\n",
            "31/31 [==============================] - 1s 29ms/step - loss: 6.1258 - mae: 6.6056\n",
            "Epoch 51/100\n",
            "31/31 [==============================] - 1s 27ms/step - loss: 5.9650 - mae: 6.4410\n",
            "Epoch 52/100\n",
            "31/31 [==============================] - 1s 28ms/step - loss: 5.5269 - mae: 6.0075\n",
            "Epoch 53/100\n",
            "31/31 [==============================] - 1s 29ms/step - loss: 5.9355 - mae: 6.4193\n",
            "Epoch 54/100\n",
            "31/31 [==============================] - 1s 28ms/step - loss: 5.4669 - mae: 5.9437\n",
            "Epoch 55/100\n",
            "31/31 [==============================] - 1s 29ms/step - loss: 5.5226 - mae: 5.9952\n",
            "Epoch 56/100\n",
            "31/31 [==============================] - 1s 28ms/step - loss: 5.0688 - mae: 5.5437\n",
            "Epoch 57/100\n",
            "31/31 [==============================] - 1s 26ms/step - loss: 5.2337 - mae: 5.7127\n",
            "Epoch 58/100\n",
            "31/31 [==============================] - 1s 27ms/step - loss: 5.5776 - mae: 6.0614\n",
            "Epoch 59/100\n",
            "31/31 [==============================] - 1s 29ms/step - loss: 5.2243 - mae: 5.7030\n",
            "Epoch 60/100\n",
            "31/31 [==============================] - 1s 27ms/step - loss: 5.0927 - mae: 5.5627\n",
            "Epoch 61/100\n",
            "31/31 [==============================] - 1s 26ms/step - loss: 5.2880 - mae: 5.7681\n",
            "Epoch 62/100\n",
            "31/31 [==============================] - 1s 27ms/step - loss: 5.3375 - mae: 5.8171\n",
            "Epoch 63/100\n",
            "31/31 [==============================] - 1s 26ms/step - loss: 5.0979 - mae: 5.5738\n",
            "Epoch 64/100\n",
            "31/31 [==============================] - 1s 26ms/step - loss: 4.9952 - mae: 5.4671\n",
            "Epoch 65/100\n",
            "31/31 [==============================] - 1s 25ms/step - loss: 4.9103 - mae: 5.3873\n",
            "Epoch 66/100\n",
            "31/31 [==============================] - 1s 27ms/step - loss: 5.5045 - mae: 5.9859\n",
            "Epoch 67/100\n",
            "31/31 [==============================] - 1s 26ms/step - loss: 6.0160 - mae: 6.4985\n",
            "Epoch 68/100\n",
            "31/31 [==============================] - 1s 26ms/step - loss: 4.9209 - mae: 5.4023\n",
            "Epoch 69/100\n",
            "31/31 [==============================] - 1s 27ms/step - loss: 5.8329 - mae: 6.3147\n",
            "Epoch 70/100\n",
            "31/31 [==============================] - 1s 27ms/step - loss: 5.3249 - mae: 5.8072\n",
            "Epoch 71/100\n",
            "31/31 [==============================] - 1s 27ms/step - loss: 4.9298 - mae: 5.4136\n",
            "Epoch 72/100\n",
            "31/31 [==============================] - 1s 27ms/step - loss: 5.7740 - mae: 6.2512\n",
            "Epoch 73/100\n",
            "31/31 [==============================] - 1s 26ms/step - loss: 6.1815 - mae: 6.6610\n",
            "Epoch 74/100\n",
            "31/31 [==============================] - 1s 26ms/step - loss: 5.6440 - mae: 6.1237\n",
            "Epoch 75/100\n",
            "31/31 [==============================] - 1s 26ms/step - loss: 5.1305 - mae: 5.6075\n",
            "Epoch 76/100\n",
            "31/31 [==============================] - 1s 27ms/step - loss: 5.4858 - mae: 5.9657\n",
            "Epoch 77/100\n",
            "31/31 [==============================] - 1s 25ms/step - loss: 6.4735 - mae: 6.9556\n",
            "Epoch 78/100\n",
            "31/31 [==============================] - 1s 27ms/step - loss: 8.1123 - mae: 8.6017\n",
            "Epoch 79/100\n",
            "31/31 [==============================] - 1s 25ms/step - loss: 5.9563 - mae: 6.4331\n",
            "Epoch 80/100\n",
            "31/31 [==============================] - 1s 27ms/step - loss: 6.9797 - mae: 7.4669\n",
            "Epoch 81/100\n",
            "31/31 [==============================] - 1s 26ms/step - loss: 6.7363 - mae: 7.2204\n",
            "Epoch 82/100\n",
            "31/31 [==============================] - 1s 27ms/step - loss: 5.2622 - mae: 5.7475\n",
            "Epoch 83/100\n",
            "31/31 [==============================] - 1s 28ms/step - loss: 5.7725 - mae: 6.2547\n",
            "Epoch 84/100\n",
            "31/31 [==============================] - 1s 28ms/step - loss: 8.8497 - mae: 9.3410\n",
            "Epoch 85/100\n",
            "31/31 [==============================] - 1s 26ms/step - loss: 5.4716 - mae: 5.9579\n",
            "Epoch 86/100\n",
            "31/31 [==============================] - 1s 26ms/step - loss: 5.4335 - mae: 5.9190\n",
            "Epoch 87/100\n",
            "31/31 [==============================] - 1s 26ms/step - loss: 7.4704 - mae: 7.9546\n",
            "Epoch 88/100\n",
            "31/31 [==============================] - 1s 26ms/step - loss: 5.9591 - mae: 6.4440\n",
            "Epoch 89/100\n",
            "31/31 [==============================] - 1s 25ms/step - loss: 7.7290 - mae: 8.2188\n",
            "Epoch 90/100\n",
            "31/31 [==============================] - 1s 26ms/step - loss: 5.9470 - mae: 6.4305\n",
            "Epoch 91/100\n",
            "31/31 [==============================] - 1s 25ms/step - loss: 8.7565 - mae: 9.2455\n",
            "Epoch 92/100\n",
            "31/31 [==============================] - 1s 27ms/step - loss: 6.8224 - mae: 7.3072\n",
            "Epoch 93/100\n",
            "31/31 [==============================] - 1s 26ms/step - loss: 11.6660 - mae: 12.1553\n",
            "Epoch 94/100\n",
            "31/31 [==============================] - 1s 25ms/step - loss: 8.8399 - mae: 9.3265\n",
            "Epoch 95/100\n",
            "31/31 [==============================] - 1s 27ms/step - loss: 13.1997 - mae: 13.6945\n",
            "Epoch 96/100\n",
            "31/31 [==============================] - 1s 26ms/step - loss: 10.7063 - mae: 11.1987\n",
            "Epoch 97/100\n",
            "31/31 [==============================] - 1s 25ms/step - loss: 10.1376 - mae: 10.6255\n",
            "Epoch 98/100\n",
            "31/31 [==============================] - 1s 27ms/step - loss: 12.2039 - mae: 12.6966\n",
            "Epoch 99/100\n",
            "31/31 [==============================] - 1s 25ms/step - loss: 9.7926 - mae: 10.2826\n",
            "Epoch 100/100\n",
            "31/31 [==============================] - 1s 27ms/step - loss: 15.1336 - mae: 15.6286\n"
          ],
          "name": "stdout"
        }
      ]
    },
    {
      "cell_type": "code",
      "metadata": {
        "colab": {
          "base_uri": "https://localhost:8080/",
          "height": 290
        },
        "id": "AkBsrsXMzoWR",
        "outputId": "1c5ac9dd-9b91-497a-b3f5-a514a2f1a06b"
      },
      "source": [
        "plt.semilogx(history.history[\"lr\"], history.history[\"loss\"])\n",
        "plt.axis([1e-8, 1e-4, 0, 30])"
      ],
      "execution_count": 7,
      "outputs": [
        {
          "output_type": "execute_result",
          "data": {
            "text/plain": [
              "(1e-08, 0.0001, 0.0, 30.0)"
            ]
          },
          "metadata": {
            "tags": []
          },
          "execution_count": 7
        },
        {
          "output_type": "display_data",
          "data": {
            "image/png": "[encoded data removed]",
            "text/plain": [
              "<Figure size 432x288 with 1 Axes>"
            ]
          },
          "metadata": {
            "tags": [],
            "needs_background": "light"
          }
        }
      ]
    },
    {
      "cell_type": "code",
      "metadata": {
        "id": "4uh-97bpLZCA"
      },
      "source": [
        "tf.keras.backend.clear_session()\n",
        "tf.random.set_seed(51)\n",
        "np.random.seed(51)\n",
        "\n",
        "tf.keras.backend.clear_session()\n",
        "dataset = windowed_dataset(x_train, window_size, batch_size, shuffle_buffer_size)\n",
        "\n",
        "model = tf.keras.models.Sequential([\n",
        "  tf.keras.layers.Lambda(lambda x: tf.expand_dims(x, axis=-1),\n",
        "                      input_shape=[None]),\n",
        "   tf.keras.layers.Bidirectional(tf.keras.layers.LSTM(32, return_sequences=True)),\n",
        "  tf.keras.layers.Bidirectional(tf.keras.layers.LSTM(32)),\n",
        "  tf.keras.layers.Dense(1),\n",
        "  tf.keras.layers.Lambda(lambda x: x * 100.0)\n",
        "])\n",
        "\n",
        "\n",
        "model.compile(loss=\"mse\", optimizer=tf.keras.optimizers.SGD(lr=1e-5, momentum=0.9),metrics=[\"mae\"])\n",
        "history = model.fit(dataset,epochs=500,verbose=0)"
      ],
      "execution_count": 8,
      "outputs": []
    },
    {
      "cell_type": "code",
      "metadata": {
        "colab": {
          "base_uri": "https://localhost:8080/",
          "height": 388
        },
        "id": "icGDaND7z0ne",
        "outputId": "312677bb-20a9-4906-a240-49a3fe8513f4"
      },
      "source": [
        "forecast = []\n",
        "results = []\n",
        "for time in range(len(series) - window_size):\n",
        "  forecast.append(model.predict(series[time:time + window_size][np.newaxis]))\n",
        "\n",
        "forecast = forecast[split_time-window_size:]\n",
        "results = np.array(forecast)[:, 0, 0]\n",
        "\n",
        "\n",
        "plt.figure(figsize=(10, 6))\n",
        "\n",
        "plot_series(time_valid, x_valid)\n",
        "plot_series(time_valid, results)"
      ],
      "execution_count": 9,
      "outputs": [
        {
          "output_type": "display_data",
          "data": {
            "image/png": "[encoded data removed]",
            "text/plain": [
              "<Figure size 720x432 with 1 Axes>"
            ]
          },
          "metadata": {
            "tags": [],
            "needs_background": "light"
          }
        }
      ]
    },
    {
      "cell_type": "code",
      "metadata": {
        "colab": {
          "base_uri": "https://localhost:8080/"
        },
        "id": "KfPeqI7rz4LD",
        "outputId": "8904a31e-4d99-432c-bd2a-359171e4d6a4"
      },
      "source": [
        "tf.keras.metrics.mean_absolute_error(x_valid, results).numpy()"
      ],
      "execution_count": 10,
      "outputs": [
        {
          "output_type": "execute_result",
          "data": {
            "text/plain": [
              "5.7015934"
            ]
          },
          "metadata": {
            "tags": []
          },
          "execution_count": 10
        }
      ]
    },
    {
      "cell_type": "code",
      "metadata": {
        "colab": {
          "base_uri": "https://localhost:8080/",
          "height": 607
        },
        "id": "JUsdZB_tzDLe",
        "outputId": "7093df6e-a92d-4e92-eb6b-1c09f51cd76b"
      },
      "source": [
        "import matplotlib.image  as mpimg\n",
        "import matplotlib.pyplot as plt\n",
        "\n",
        "#-----------------------------------------------------------\n",
        "# Retrieve a list of list results on training and test data\n",
        "# sets for each training epoch\n",
        "#-----------------------------------------------------------\n",
        "mae=history.history['mae']\n",
        "loss=history.history['loss']\n",
        "\n",
        "epochs=range(len(loss)) # Get number of epochs\n",
        "\n",
        "#------------------------------------------------\n",
        "# Plot MAE and Loss\n",
        "#------------------------------------------------\n",
        "plt.plot(epochs, mae, 'r')\n",
        "plt.plot(epochs, loss, 'b')\n",
        "plt.title('MAE and Loss')\n",
        "plt.xlabel(\"Epochs\")\n",
        "plt.ylabel(\"Accuracy\")\n",
        "plt.legend([\"MAE\", \"Loss\"])\n",
        "\n",
        "plt.figure()\n",
        "\n",
        "epochs_zoom = epochs[200:]\n",
        "mae_zoom = mae[200:]\n",
        "loss_zoom = loss[200:]\n",
        "\n",
        "#------------------------------------------------\n",
        "# Plot Zoomed MAE and Loss\n",
        "#------------------------------------------------\n",
        "plt.plot(epochs_zoom, mae_zoom, 'r')\n",
        "plt.plot(epochs_zoom, loss_zoom, 'b')\n",
        "plt.title('MAE and Loss')\n",
        "plt.xlabel(\"Epochs\")\n",
        "plt.ylabel(\"Accuracy\")\n",
        "plt.legend([\"MAE\", \"Loss\"])\n",
        "\n",
        "plt.figure()"
      ],
      "execution_count": 11,
      "outputs": [
        {
          "output_type": "execute_result",
          "data": {
            "text/plain": [
              "<Figure size 432x288 with 0 Axes>"
            ]
          },
          "metadata": {
            "tags": []
          },
          "execution_count": 11
        },
        {
          "output_type": "display_data",
          "data": {
            "image/png": "[encoded data removed]",
            "text/plain": [
              "<Figure size 432x288 with 1 Axes>"
            ]
          },
          "metadata": {
            "tags": [],
            "needs_background": "light"
          }
        },
        {
          "output_type": "display_data",
          "data": {
            "image/png": "[encoded data removed]",
            "text/plain": [
              "<Figure size 432x288 with 1 Axes>"
            ]
          },
          "metadata": {
            "tags": [],
            "needs_background": "light"
          }
        },
        {
          "output_type": "display_data",
          "data": {
            "text/plain": [
              "<Figure size 432x288 with 0 Axes>"
            ]
          },
          "metadata": {
            "tags": []
          }
        }
      ]
    },
    {
      "cell_type": "code",
      "metadata": {
        "colab": {
          "base_uri": "https://localhost:8080/"
        },
        "id": "3CGaYFxXNEAK",
        "outputId": "5a02adaf-24c6-48fc-ccdd-db82fe28ace6"
      },
      "source": [
        "tf.keras.backend.clear_session()\n",
        "dataset = windowed_dataset(x_train, window_size, batch_size, shuffle_buffer_size)\n",
        "\n",
        "model = tf.keras.models.Sequential([\n",
        "  tf.keras.layers.Lambda(lambda x: tf.expand_dims(x, axis=-1),\n",
        "                      input_shape=[None]),\n",
        "  tf.keras.layers.Bidirectional(tf.keras.layers.LSTM(32, return_sequences=True)),\n",
        "  tf.keras.layers.Bidirectional(tf.keras.layers.LSTM(32)),\n",
        "  tf.keras.layers.Dense(1),\n",
        "  tf.keras.layers.Lambda(lambda x: x * 100.0)\n",
        "])\n",
        "\n",
        "\n",
        "model.compile(loss=\"mse\", optimizer=tf.keras.optimizers.SGD(lr=1e-6, momentum=0.9))\n",
        "model.fit(dataset,epochs=100, verbose=0)"
      ],
      "execution_count": 12,
      "outputs": [
        {
          "output_type": "execute_result",
          "data": {
            "text/plain": [
              "<tensorflow.python.keras.callbacks.History at 0x7f530b322190>"
            ]
          },
          "metadata": {
            "tags": []
          },
          "execution_count": 12
        }
      ]
    },
    {
      "cell_type": "code",
      "metadata": {
        "colab": {
          "base_uri": "https://localhost:8080/"
        },
        "id": "FJ3R8ysauz9e",
        "outputId": "288afdd5-08ca-497b-af86-cc8f93ebf82c"
      },
      "source": [
        "tf.keras.backend.clear_session()\n",
        "dataset = windowed_dataset(x_train, window_size, batch_size, shuffle_buffer_size)\n",
        "\n",
        "model = tf.keras.models.Sequential([\n",
        "  tf.keras.layers.Lambda(lambda x: tf.expand_dims(x, axis=-1),\n",
        "                      input_shape=[None]),\n",
        "  tf.keras.layers.Bidirectional(tf.keras.layers.LSTM(32, return_sequences=True)),\n",
        "  tf.keras.layers.Bidirectional(tf.keras.layers.LSTM(32, return_sequences=True)),\n",
        "  tf.keras.layers.Bidirectional(tf.keras.layers.LSTM(32)),\n",
        "  tf.keras.layers.Dense(1),\n",
        "  tf.keras.layers.Lambda(lambda x: x * 100.0)\n",
        "])\n",
        "\n",
        "\n",
        "model.compile(loss=\"mse\", optimizer=tf.keras.optimizers.SGD(lr=1e-6, momentum=0.9))\n",
        "model.fit(dataset,epochs=100)"
      ],
      "execution_count": 13,
      "outputs": [
        {
          "output_type": "stream",
          "text": [
            "Epoch 1/100\n",
            "31/31 [==============================] - 10s 39ms/step - loss: 1307.8963\n",
            "Epoch 2/100\n",
            "31/31 [==============================] - 1s 39ms/step - loss: 176.4447\n",
            "Epoch 3/100\n",
            "31/31 [==============================] - 1s 39ms/step - loss: 97.3889\n",
            "Epoch 4/100\n",
            "31/31 [==============================] - 1s 37ms/step - loss: 89.1422\n",
            "Epoch 5/100\n",
            "31/31 [==============================] - 1s 37ms/step - loss: 79.4352\n",
            "Epoch 6/100\n",
            "31/31 [==============================] - 1s 38ms/step - loss: 81.9361\n",
            "Epoch 7/100\n",
            "31/31 [==============================] - 1s 37ms/step - loss: 71.1977\n",
            "Epoch 8/100\n",
            "31/31 [==============================] - 1s 38ms/step - loss: 80.9702\n",
            "Epoch 9/100\n",
            "31/31 [==============================] - 1s 37ms/step - loss: 72.1486\n",
            "Epoch 10/100\n",
            "31/31 [==============================] - 1s 41ms/step - loss: 62.0152\n",
            "Epoch 11/100\n",
            "31/31 [==============================] - 1s 39ms/step - loss: 66.4223\n",
            "Epoch 12/100\n",
            "31/31 [==============================] - 1s 38ms/step - loss: 56.7716\n",
            "Epoch 13/100\n",
            "31/31 [==============================] - 1s 37ms/step - loss: 65.8524\n",
            "Epoch 14/100\n",
            "31/31 [==============================] - 1s 37ms/step - loss: 55.6885\n",
            "Epoch 15/100\n",
            "31/31 [==============================] - 1s 37ms/step - loss: 51.7451\n",
            "Epoch 16/100\n",
            "31/31 [==============================] - 1s 40ms/step - loss: 61.3162\n",
            "Epoch 17/100\n",
            "31/31 [==============================] - 1s 38ms/step - loss: 60.5640\n",
            "Epoch 18/100\n",
            "31/31 [==============================] - 1s 40ms/step - loss: 68.3099\n",
            "Epoch 19/100\n",
            "31/31 [==============================] - 1s 42ms/step - loss: 59.1468\n",
            "Epoch 20/100\n",
            "31/31 [==============================] - 1s 40ms/step - loss: 51.7663\n",
            "Epoch 21/100\n",
            "31/31 [==============================] - 1s 40ms/step - loss: 57.9662\n",
            "Epoch 22/100\n",
            "31/31 [==============================] - 1s 39ms/step - loss: 47.0318\n",
            "Epoch 23/100\n",
            "31/31 [==============================] - 1s 41ms/step - loss: 47.9675\n",
            "Epoch 24/100\n",
            "31/31 [==============================] - 1s 39ms/step - loss: 57.4802\n",
            "Epoch 25/100\n",
            "31/31 [==============================] - 1s 39ms/step - loss: 47.2999\n",
            "Epoch 26/100\n",
            "31/31 [==============================] - 1s 39ms/step - loss: 57.2269\n",
            "Epoch 27/100\n",
            "31/31 [==============================] - 1s 38ms/step - loss: 47.2807\n",
            "Epoch 28/100\n",
            "31/31 [==============================] - 1s 39ms/step - loss: 61.8052\n",
            "Epoch 29/100\n",
            "31/31 [==============================] - 1s 38ms/step - loss: 53.6745\n",
            "Epoch 30/100\n",
            "31/31 [==============================] - 1s 38ms/step - loss: 51.3073\n",
            "Epoch 31/100\n",
            "31/31 [==============================] - 1s 38ms/step - loss: 49.3268\n",
            "Epoch 32/100\n",
            "31/31 [==============================] - 1s 37ms/step - loss: 65.4227\n",
            "Epoch 33/100\n",
            "31/31 [==============================] - 1s 38ms/step - loss: 46.8952\n",
            "Epoch 34/100\n",
            "31/31 [==============================] - 1s 38ms/step - loss: 49.0285\n",
            "Epoch 35/100\n",
            "31/31 [==============================] - 1s 39ms/step - loss: 49.1433\n",
            "Epoch 36/100\n",
            "31/31 [==============================] - 1s 41ms/step - loss: 49.8325\n",
            "Epoch 37/100\n",
            "31/31 [==============================] - 1s 39ms/step - loss: 51.1616\n",
            "Epoch 38/100\n",
            "31/31 [==============================] - 1s 37ms/step - loss: 44.5338\n",
            "Epoch 39/100\n",
            "31/31 [==============================] - 1s 37ms/step - loss: 49.8415\n",
            "Epoch 40/100\n",
            "31/31 [==============================] - 1s 39ms/step - loss: 47.2750\n",
            "Epoch 41/100\n",
            "31/31 [==============================] - 1s 38ms/step - loss: 43.8079\n",
            "Epoch 42/100\n",
            "31/31 [==============================] - 1s 39ms/step - loss: 44.4349\n",
            "Epoch 43/100\n",
            "31/31 [==============================] - 1s 41ms/step - loss: 49.2025\n",
            "Epoch 44/100\n",
            "31/31 [==============================] - 1s 40ms/step - loss: 49.1567\n",
            "Epoch 45/100\n",
            "31/31 [==============================] - 1s 40ms/step - loss: 47.8761\n",
            "Epoch 46/100\n",
            "31/31 [==============================] - 1s 38ms/step - loss: 57.0200\n",
            "Epoch 47/100\n",
            "31/31 [==============================] - 1s 38ms/step - loss: 50.2484\n",
            "Epoch 48/100\n",
            "31/31 [==============================] - 1s 38ms/step - loss: 44.5639\n",
            "Epoch 49/100\n",
            "31/31 [==============================] - 1s 37ms/step - loss: 43.7269\n",
            "Epoch 50/100\n",
            "31/31 [==============================] - 1s 39ms/step - loss: 44.5412\n",
            "Epoch 51/100\n",
            "31/31 [==============================] - 1s 39ms/step - loss: 47.8999\n",
            "Epoch 52/100\n",
            "31/31 [==============================] - 1s 37ms/step - loss: 52.9299\n",
            "Epoch 53/100\n",
            "31/31 [==============================] - 1s 37ms/step - loss: 48.6632\n",
            "Epoch 54/100\n",
            "31/31 [==============================] - 1s 40ms/step - loss: 45.8338\n",
            "Epoch 55/100\n",
            "31/31 [==============================] - 1s 37ms/step - loss: 49.9223\n",
            "Epoch 56/100\n",
            "31/31 [==============================] - 1s 39ms/step - loss: 43.8217\n",
            "Epoch 57/100\n",
            "31/31 [==============================] - 1s 38ms/step - loss: 48.0453\n",
            "Epoch 58/100\n",
            "31/31 [==============================] - 1s 38ms/step - loss: 44.5170\n",
            "Epoch 59/100\n",
            "31/31 [==============================] - 1s 39ms/step - loss: 52.4924\n",
            "Epoch 60/100\n",
            "31/31 [==============================] - 1s 38ms/step - loss: 52.3913\n",
            "Epoch 61/100\n",
            "31/31 [==============================] - 1s 37ms/step - loss: 51.3635\n",
            "Epoch 62/100\n",
            "31/31 [==============================] - 1s 39ms/step - loss: 46.8952\n",
            "Epoch 63/100\n",
            "31/31 [==============================] - 1s 38ms/step - loss: 43.7924\n",
            "Epoch 64/100\n",
            "31/31 [==============================] - 1s 38ms/step - loss: 45.0692\n",
            "Epoch 65/100\n",
            "31/31 [==============================] - 1s 38ms/step - loss: 41.9527\n",
            "Epoch 66/100\n",
            "31/31 [==============================] - 1s 38ms/step - loss: 43.8442\n",
            "Epoch 67/100\n",
            "31/31 [==============================] - 1s 38ms/step - loss: 51.6383\n",
            "Epoch 68/100\n",
            "31/31 [==============================] - 1s 38ms/step - loss: 48.3306\n",
            "Epoch 69/100\n",
            "31/31 [==============================] - 1s 38ms/step - loss: 50.4872\n",
            "Epoch 70/100\n",
            "31/31 [==============================] - 1s 38ms/step - loss: 44.4211\n",
            "Epoch 71/100\n",
            "31/31 [==============================] - 1s 38ms/step - loss: 45.0978\n",
            "Epoch 72/100\n",
            "31/31 [==============================] - 1s 39ms/step - loss: 48.7570\n",
            "Epoch 73/100\n",
            "31/31 [==============================] - 1s 37ms/step - loss: 43.8418\n",
            "Epoch 74/100\n",
            "31/31 [==============================] - 1s 39ms/step - loss: 45.1499\n",
            "Epoch 75/100\n",
            "31/31 [==============================] - 1s 38ms/step - loss: 45.8363\n",
            "Epoch 76/100\n",
            "31/31 [==============================] - 1s 39ms/step - loss: 47.0266\n",
            "Epoch 77/100\n",
            "31/31 [==============================] - 1s 37ms/step - loss: 44.6570\n",
            "Epoch 78/100\n",
            "31/31 [==============================] - 1s 38ms/step - loss: 48.7822\n",
            "Epoch 79/100\n",
            "31/31 [==============================] - 1s 38ms/step - loss: 45.0669\n",
            "Epoch 80/100\n",
            "31/31 [==============================] - 1s 38ms/step - loss: 52.5983\n",
            "Epoch 81/100\n",
            "31/31 [==============================] - 1s 37ms/step - loss: 55.1306\n",
            "Epoch 82/100\n",
            "31/31 [==============================] - 1s 38ms/step - loss: 42.0271\n",
            "Epoch 83/100\n",
            "31/31 [==============================] - 1s 38ms/step - loss: 46.2461\n",
            "Epoch 84/100\n",
            "31/31 [==============================] - 1s 39ms/step - loss: 43.4018\n",
            "Epoch 85/100\n",
            "31/31 [==============================] - 1s 38ms/step - loss: 45.6803\n",
            "Epoch 86/100\n",
            "31/31 [==============================] - 1s 38ms/step - loss: 39.8838\n",
            "Epoch 87/100\n",
            "31/31 [==============================] - 1s 38ms/step - loss: 46.8049\n",
            "Epoch 88/100\n",
            "31/31 [==============================] - 1s 38ms/step - loss: 47.5273\n",
            "Epoch 89/100\n",
            "31/31 [==============================] - 1s 39ms/step - loss: 49.8811\n",
            "Epoch 90/100\n",
            "31/31 [==============================] - 1s 38ms/step - loss: 47.0887\n",
            "Epoch 91/100\n",
            "31/31 [==============================] - 1s 38ms/step - loss: 54.3088\n",
            "Epoch 92/100\n",
            "31/31 [==============================] - 1s 39ms/step - loss: 42.3811\n",
            "Epoch 93/100\n",
            "31/31 [==============================] - 1s 37ms/step - loss: 42.2538\n",
            "Epoch 94/100\n",
            "31/31 [==============================] - 1s 38ms/step - loss: 47.1556\n",
            "Epoch 95/100\n",
            "31/31 [==============================] - 1s 41ms/step - loss: 43.1065\n",
            "Epoch 96/100\n",
            "31/31 [==============================] - 1s 42ms/step - loss: 41.5071\n",
            "Epoch 97/100\n",
            "31/31 [==============================] - 1s 42ms/step - loss: 43.2033\n",
            "Epoch 98/100\n",
            "31/31 [==============================] - 1s 42ms/step - loss: 51.2075\n",
            "Epoch 99/100\n",
            "31/31 [==============================] - 1s 41ms/step - loss: 43.6789\n",
            "Epoch 100/100\n",
            "31/31 [==============================] - 1s 40ms/step - loss: 42.8390\n"
          ],
          "name": "stdout"
        },
        {
          "output_type": "execute_result",
          "data": {
            "text/plain": [
              "<tensorflow.python.keras.callbacks.History at 0x7f53081c4050>"
            ]
          },
          "metadata": {
            "tags": []
          },
          "execution_count": 13
        }
      ]
    }
  ]
}