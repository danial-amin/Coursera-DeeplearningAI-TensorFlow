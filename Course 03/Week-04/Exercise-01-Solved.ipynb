{
  "nbformat": 4,
  "nbformat_minor": 0,
  "metadata": {
    "accelerator": "GPU",
    "colab": {
      "name": "NLP_Week4_Exercise_Shakespeare_Answer.ipynb",
      "provenance": [],
      "toc_visible": true
    },
    "kernelspec": {
      "display_name": "Python 3",
      "name": "python3"
    }
  },
  "cells": [
    {
      "cell_type": "code",
      "metadata": {
        "id": "zX4Kg8DUTKWO"
      },
      "source": [
        "#@title Licensed under the Apache License, Version 2.0 (the \"License\");\n",
        "# you may not use this file except in compliance with the License.\n",
        "# You may obtain a copy of the License at\n",
        "#\n",
        "# https://www.apache.org/licenses/LICENSE-2.0\n",
        "#\n",
        "# Unless required by applicable law or agreed to in writing, software\n",
        "# distributed under the License is distributed on an \"AS IS\" BASIS,\n",
        "# WITHOUT WARRANTIES OR CONDITIONS OF ANY KIND, either express or implied.\n",
        "# See the License for the specific language governing permissions and\n",
        "# limitations under the License."
      ],
      "execution_count": 1,
      "outputs": []
    },
    {
      "cell_type": "code",
      "metadata": {
        "id": "BOwsuGQQY9OL"
      },
      "source": [
        "from tensorflow.keras.preprocessing.sequence import pad_sequences\n",
        "from tensorflow.keras.layers import Embedding, LSTM, Dense, Dropout, Bidirectional\n",
        "from tensorflow.keras.preprocessing.text import Tokenizer\n",
        "from tensorflow.keras.models import Sequential\n",
        "from tensorflow.keras.optimizers import Adam\n",
        "from tensorflow.keras import regularizers\n",
        "import tensorflow.keras.utils as ku \n",
        "import numpy as np "
      ],
      "execution_count": 2,
      "outputs": []
    },
    {
      "cell_type": "code",
      "metadata": {
        "colab": {
          "base_uri": "https://localhost:8080/"
        },
        "id": "PRnDnCW-Z7qv",
        "outputId": "ac656e2b-459f-4314-aa55-1a08d8ace92f"
      },
      "source": [
        "tokenizer = Tokenizer()\n",
        "!wget --no-check-certificate \\\n",
        "    https://storage.googleapis.com/laurencemoroney-blog.appspot.com/sonnets.txt \\\n",
        "    -O /tmp/sonnets.txt\n",
        "data = open('/tmp/sonnets.txt').read()\n",
        "\n",
        "corpus = data.lower().split(\"\\n\")\n",
        "\n",
        "\n",
        "tokenizer.fit_on_texts(corpus)\n",
        "total_words = len(tokenizer.word_index) + 1\n",
        "\n",
        "# create input sequences using list of tokens\n",
        "input_sequences = []\n",
        "for line in corpus:\n",
        "\ttoken_list = tokenizer.texts_to_sequences([line])[0]\n",
        "\tfor i in range(1, len(token_list)):\n",
        "\t\tn_gram_sequence = token_list[:i+1]\n",
        "\t\tinput_sequences.append(n_gram_sequence)\n",
        "\n",
        "\n",
        "# pad sequences \n",
        "max_sequence_len = max([len(x) for x in input_sequences])\n",
        "input_sequences = np.array(pad_sequences(input_sequences, maxlen=max_sequence_len, padding='pre'))\n",
        "\n",
        "# create predictors and label\n",
        "predictors, label = input_sequences[:,:-1],input_sequences[:,-1]\n",
        "\n",
        "label = ku.to_categorical(label, num_classes=total_words)"
      ],
      "execution_count": 3,
      "outputs": [
        {
          "output_type": "stream",
          "text": [
            "--2021-05-21 14:42:44--  https://storage.googleapis.com/laurencemoroney-blog.appspot.com/sonnets.txt\n",
            "Resolving storage.googleapis.com (storage.googleapis.com)... 74.125.20.128, 74.125.142.128, 74.125.195.128, ...\n",
            "Connecting to storage.googleapis.com (storage.googleapis.com)|74.125.20.128|:443... connected.\n",
            "HTTP request sent, awaiting response... 200 OK\n",
            "Length: 93578 (91K) [text/plain]\n",
            "Saving to: ‘/tmp/sonnets.txt’\n",
            "\n",
            "\r/tmp/sonnets.txt      0%[                    ]       0  --.-KB/s               \r/tmp/sonnets.txt    100%[===================>]  91.38K  --.-KB/s    in 0.001s  \n",
            "\n",
            "2021-05-21 14:42:45 (100 MB/s) - ‘/tmp/sonnets.txt’ saved [93578/93578]\n",
            "\n"
          ],
          "name": "stdout"
        }
      ]
    },
    {
      "cell_type": "code",
      "metadata": {
        "colab": {
          "base_uri": "https://localhost:8080/"
        },
        "id": "w9vH8Y59ajYL",
        "outputId": "3333aadd-3f45-4973-9665-204dbb7c6c73"
      },
      "source": [
        "model = Sequential()\n",
        "model.add(Embedding(total_words, 100, input_length=max_sequence_len-1))\n",
        "model.add(Bidirectional(LSTM(150, return_sequences = True)))\n",
        "model.add(Dropout(0.2))\n",
        "model.add(LSTM(100))\n",
        "model.add(Dense(total_words/2, activation='relu', kernel_regularizer=regularizers.l2(0.01)))\n",
        "model.add(Dense(total_words, activation='softmax'))\n",
        "model.compile(loss='categorical_crossentropy', optimizer='adam', metrics=['accuracy'])\n",
        "print(model.summary())\n"
      ],
      "execution_count": 4,
      "outputs": [
        {
          "output_type": "stream",
          "text": [
            "Model: \"sequential\"\n",
            "_________________________________________________________________\n",
            "Layer (type)                 Output Shape              Param #   \n",
            "=================================================================\n",
            "embedding (Embedding)        (None, 10, 100)           321100    \n",
            "_________________________________________________________________\n",
            "bidirectional (Bidirectional (None, 10, 300)           301200    \n",
            "_________________________________________________________________\n",
            "dropout (Dropout)            (None, 10, 300)           0         \n",
            "_________________________________________________________________\n",
            "lstm_1 (LSTM)                (None, 100)               160400    \n",
            "_________________________________________________________________\n",
            "dense (Dense)                (None, 1605)              162105    \n",
            "_________________________________________________________________\n",
            "dense_1 (Dense)              (None, 3211)              5156866   \n",
            "=================================================================\n",
            "Total params: 6,101,671\n",
            "Trainable params: 6,101,671\n",
            "Non-trainable params: 0\n",
            "_________________________________________________________________\n",
            "None\n"
          ],
          "name": "stdout"
        }
      ]
    },
    {
      "cell_type": "code",
      "metadata": {
        "colab": {
          "base_uri": "https://localhost:8080/"
        },
        "id": "AIg2f1HBxqof",
        "outputId": "9d053652-4959-44da-d8a4-f7091b3edbed"
      },
      "source": [
        " history = model.fit(predictors, label, epochs=100, verbose=1)"
      ],
      "execution_count": 5,
      "outputs": [
        {
          "output_type": "stream",
          "text": [
            "Epoch 1/100\n",
            "484/484 [==============================] - 52s 98ms/step - loss: 7.3369 - accuracy: 0.0181\n",
            "Epoch 2/100\n",
            "484/484 [==============================] - 47s 98ms/step - loss: 6.4649 - accuracy: 0.0234\n",
            "Epoch 3/100\n",
            "484/484 [==============================] - 47s 98ms/step - loss: 6.3758 - accuracy: 0.0248\n",
            "Epoch 4/100\n",
            "484/484 [==============================] - 47s 97ms/step - loss: 6.2609 - accuracy: 0.0294\n",
            "Epoch 5/100\n",
            "484/484 [==============================] - 47s 97ms/step - loss: 6.1693 - accuracy: 0.0306\n",
            "Epoch 6/100\n",
            "484/484 [==============================] - 47s 97ms/step - loss: 6.0813 - accuracy: 0.0370\n",
            "Epoch 7/100\n",
            "484/484 [==============================] - 47s 97ms/step - loss: 6.0232 - accuracy: 0.0411\n",
            "Epoch 8/100\n",
            "484/484 [==============================] - 47s 97ms/step - loss: 5.9288 - accuracy: 0.0472\n",
            "Epoch 9/100\n",
            "484/484 [==============================] - 47s 97ms/step - loss: 5.8396 - accuracy: 0.0505\n",
            "Epoch 10/100\n",
            "484/484 [==============================] - 47s 97ms/step - loss: 5.7171 - accuracy: 0.0582\n",
            "Epoch 11/100\n",
            "484/484 [==============================] - 47s 97ms/step - loss: 5.6126 - accuracy: 0.0617\n",
            "Epoch 12/100\n",
            "484/484 [==============================] - 47s 97ms/step - loss: 5.5219 - accuracy: 0.0673\n",
            "Epoch 13/100\n",
            "484/484 [==============================] - 47s 98ms/step - loss: 5.4022 - accuracy: 0.0751\n",
            "Epoch 14/100\n",
            "484/484 [==============================] - 47s 97ms/step - loss: 5.3229 - accuracy: 0.0815\n",
            "Epoch 15/100\n",
            "484/484 [==============================] - 47s 97ms/step - loss: 5.2233 - accuracy: 0.0878\n",
            "Epoch 16/100\n",
            "484/484 [==============================] - 47s 97ms/step - loss: 5.1148 - accuracy: 0.0917\n",
            "Epoch 17/100\n",
            "484/484 [==============================] - 47s 97ms/step - loss: 4.9751 - accuracy: 0.1042\n",
            "Epoch 18/100\n",
            "484/484 [==============================] - 47s 97ms/step - loss: 4.8958 - accuracy: 0.1068\n",
            "Epoch 19/100\n",
            "484/484 [==============================] - 47s 98ms/step - loss: 4.7736 - accuracy: 0.1205\n",
            "Epoch 20/100\n",
            "484/484 [==============================] - 47s 97ms/step - loss: 4.6994 - accuracy: 0.1290\n",
            "Epoch 21/100\n",
            "484/484 [==============================] - 47s 97ms/step - loss: 4.5910 - accuracy: 0.1401\n",
            "Epoch 22/100\n",
            "484/484 [==============================] - 47s 97ms/step - loss: 4.4671 - accuracy: 0.1509\n",
            "Epoch 23/100\n",
            "484/484 [==============================] - 47s 97ms/step - loss: 4.3627 - accuracy: 0.1623\n",
            "Epoch 24/100\n",
            "484/484 [==============================] - 47s 97ms/step - loss: 4.2746 - accuracy: 0.1795\n",
            "Epoch 25/100\n",
            "484/484 [==============================] - 47s 97ms/step - loss: 4.1824 - accuracy: 0.1835\n",
            "Epoch 26/100\n",
            "484/484 [==============================] - 47s 97ms/step - loss: 4.0841 - accuracy: 0.1960\n",
            "Epoch 27/100\n",
            "484/484 [==============================] - 47s 97ms/step - loss: 3.9456 - accuracy: 0.2212\n",
            "Epoch 28/100\n",
            "484/484 [==============================] - 47s 97ms/step - loss: 3.8621 - accuracy: 0.2332\n",
            "Epoch 29/100\n",
            "484/484 [==============================] - 47s 97ms/step - loss: 3.7444 - accuracy: 0.2527\n",
            "Epoch 30/100\n",
            "484/484 [==============================] - 47s 97ms/step - loss: 3.6885 - accuracy: 0.2678\n",
            "Epoch 31/100\n",
            "484/484 [==============================] - 47s 98ms/step - loss: 3.5753 - accuracy: 0.2888\n",
            "Epoch 32/100\n",
            "484/484 [==============================] - 47s 97ms/step - loss: 3.4885 - accuracy: 0.3013\n",
            "Epoch 33/100\n",
            "484/484 [==============================] - 47s 97ms/step - loss: 3.3995 - accuracy: 0.3285\n",
            "Epoch 34/100\n",
            "484/484 [==============================] - 47s 97ms/step - loss: 3.3265 - accuracy: 0.3481\n",
            "Epoch 35/100\n",
            "484/484 [==============================] - 47s 98ms/step - loss: 3.2160 - accuracy: 0.3658\n",
            "Epoch 36/100\n",
            "484/484 [==============================] - 47s 97ms/step - loss: 3.1617 - accuracy: 0.3855\n",
            "Epoch 37/100\n",
            "484/484 [==============================] - 47s 97ms/step - loss: 3.0751 - accuracy: 0.4015\n",
            "Epoch 38/100\n",
            "484/484 [==============================] - 47s 98ms/step - loss: 3.0113 - accuracy: 0.4149\n",
            "Epoch 39/100\n",
            "484/484 [==============================] - 47s 98ms/step - loss: 2.9014 - accuracy: 0.4443\n",
            "Epoch 40/100\n",
            "484/484 [==============================] - 47s 98ms/step - loss: 2.8535 - accuracy: 0.4531\n",
            "Epoch 41/100\n",
            "484/484 [==============================] - 47s 98ms/step - loss: 2.8023 - accuracy: 0.4671\n",
            "Epoch 42/100\n",
            "484/484 [==============================] - 47s 98ms/step - loss: 2.7379 - accuracy: 0.4806\n",
            "Epoch 43/100\n",
            "484/484 [==============================] - 47s 97ms/step - loss: 2.6471 - accuracy: 0.4943\n",
            "Epoch 44/100\n",
            "484/484 [==============================] - 47s 97ms/step - loss: 2.5979 - accuracy: 0.5089\n",
            "Epoch 45/100\n",
            "484/484 [==============================] - 47s 97ms/step - loss: 2.5776 - accuracy: 0.5209\n",
            "Epoch 46/100\n",
            "484/484 [==============================] - 47s 97ms/step - loss: 2.4737 - accuracy: 0.5400\n",
            "Epoch 47/100\n",
            "484/484 [==============================] - 47s 97ms/step - loss: 2.4238 - accuracy: 0.5460\n",
            "Epoch 48/100\n",
            "484/484 [==============================] - 47s 97ms/step - loss: 2.3813 - accuracy: 0.5613\n",
            "Epoch 49/100\n",
            "484/484 [==============================] - 47s 97ms/step - loss: 2.3417 - accuracy: 0.5715\n",
            "Epoch 50/100\n",
            "484/484 [==============================] - 47s 97ms/step - loss: 2.2557 - accuracy: 0.5812\n",
            "Epoch 51/100\n",
            "484/484 [==============================] - 47s 98ms/step - loss: 2.2480 - accuracy: 0.5880\n",
            "Epoch 52/100\n",
            "484/484 [==============================] - 47s 98ms/step - loss: 2.2124 - accuracy: 0.5874\n",
            "Epoch 53/100\n",
            "484/484 [==============================] - 47s 98ms/step - loss: 2.1917 - accuracy: 0.6001\n",
            "Epoch 54/100\n",
            "484/484 [==============================] - 47s 98ms/step - loss: 2.1112 - accuracy: 0.6113\n",
            "Epoch 55/100\n",
            "484/484 [==============================] - 48s 98ms/step - loss: 2.0733 - accuracy: 0.6274\n",
            "Epoch 56/100\n",
            "484/484 [==============================] - 48s 98ms/step - loss: 2.0097 - accuracy: 0.6443\n",
            "Epoch 57/100\n",
            "484/484 [==============================] - 48s 98ms/step - loss: 1.9930 - accuracy: 0.6422\n",
            "Epoch 58/100\n",
            "484/484 [==============================] - 47s 98ms/step - loss: 1.9827 - accuracy: 0.6404\n",
            "Epoch 59/100\n",
            "484/484 [==============================] - 47s 97ms/step - loss: 1.9144 - accuracy: 0.6606\n",
            "Epoch 60/100\n",
            "484/484 [==============================] - 47s 98ms/step - loss: 1.8723 - accuracy: 0.6677\n",
            "Epoch 61/100\n",
            "484/484 [==============================] - 47s 97ms/step - loss: 1.8671 - accuracy: 0.6664\n",
            "Epoch 62/100\n",
            "484/484 [==============================] - 47s 97ms/step - loss: 1.8163 - accuracy: 0.6766\n",
            "Epoch 63/100\n",
            "484/484 [==============================] - 47s 97ms/step - loss: 1.7806 - accuracy: 0.6855\n",
            "Epoch 64/100\n",
            "484/484 [==============================] - 47s 98ms/step - loss: 1.7384 - accuracy: 0.6960\n",
            "Epoch 65/100\n",
            "484/484 [==============================] - 47s 97ms/step - loss: 1.7345 - accuracy: 0.6924\n",
            "Epoch 66/100\n",
            "484/484 [==============================] - 47s 98ms/step - loss: 1.6998 - accuracy: 0.7079\n",
            "Epoch 67/100\n",
            "484/484 [==============================] - 47s 97ms/step - loss: 1.6720 - accuracy: 0.7101\n",
            "Epoch 68/100\n",
            "484/484 [==============================] - 70s 144ms/step - loss: 1.6575 - accuracy: 0.7103\n",
            "Epoch 69/100\n",
            "484/484 [==============================] - 65s 135ms/step - loss: 1.6298 - accuracy: 0.7187\n",
            "Epoch 70/100\n",
            "484/484 [==============================] - 46s 95ms/step - loss: 1.6163 - accuracy: 0.7227\n",
            "Epoch 71/100\n",
            "484/484 [==============================] - 47s 97ms/step - loss: 1.5640 - accuracy: 0.7301\n",
            "Epoch 72/100\n",
            "484/484 [==============================] - 47s 98ms/step - loss: 1.5557 - accuracy: 0.7262\n",
            "Epoch 73/100\n",
            "484/484 [==============================] - 46s 96ms/step - loss: 1.5380 - accuracy: 0.7372\n",
            "Epoch 74/100\n",
            "484/484 [==============================] - 46s 96ms/step - loss: 1.5085 - accuracy: 0.7416\n",
            "Epoch 75/100\n",
            "484/484 [==============================] - 83s 171ms/step - loss: 1.4870 - accuracy: 0.7405\n",
            "Epoch 76/100\n",
            "484/484 [==============================] - 54s 111ms/step - loss: 1.4410 - accuracy: 0.7587\n",
            "Epoch 77/100\n",
            "484/484 [==============================] - 46s 95ms/step - loss: 1.4621 - accuracy: 0.7520\n",
            "Epoch 78/100\n",
            "484/484 [==============================] - 48s 99ms/step - loss: 1.4345 - accuracy: 0.7526\n",
            "Epoch 79/100\n",
            "484/484 [==============================] - 47s 96ms/step - loss: 1.4206 - accuracy: 0.7538\n",
            "Epoch 80/100\n",
            "484/484 [==============================] - 46s 95ms/step - loss: 1.4042 - accuracy: 0.7593\n",
            "Epoch 81/100\n",
            "484/484 [==============================] - 46s 95ms/step - loss: 1.3693 - accuracy: 0.7704\n",
            "Epoch 82/100\n",
            "484/484 [==============================] - 46s 95ms/step - loss: 1.3746 - accuracy: 0.7652\n",
            "Epoch 83/100\n",
            "484/484 [==============================] - 46s 95ms/step - loss: 1.3402 - accuracy: 0.7677\n",
            "Epoch 84/100\n",
            "484/484 [==============================] - 46s 95ms/step - loss: 1.3534 - accuracy: 0.7646\n",
            "Epoch 85/100\n",
            "484/484 [==============================] - 46s 96ms/step - loss: 1.3034 - accuracy: 0.7775\n",
            "Epoch 86/100\n",
            "484/484 [==============================] - 46s 96ms/step - loss: 1.2973 - accuracy: 0.7782\n",
            "Epoch 87/100\n",
            "484/484 [==============================] - 46s 96ms/step - loss: 1.2562 - accuracy: 0.7863\n",
            "Epoch 88/100\n",
            "484/484 [==============================] - 46s 96ms/step - loss: 1.2572 - accuracy: 0.7868\n",
            "Epoch 89/100\n",
            "484/484 [==============================] - 46s 96ms/step - loss: 1.2552 - accuracy: 0.7857\n",
            "Epoch 90/100\n",
            "484/484 [==============================] - 46s 96ms/step - loss: 1.2439 - accuracy: 0.7859\n",
            "Epoch 91/100\n",
            "484/484 [==============================] - 46s 96ms/step - loss: 1.2201 - accuracy: 0.7906\n",
            "Epoch 92/100\n",
            "484/484 [==============================] - 47s 96ms/step - loss: 1.2095 - accuracy: 0.7940\n",
            "Epoch 93/100\n",
            "484/484 [==============================] - 46s 96ms/step - loss: 1.2140 - accuracy: 0.7916\n",
            "Epoch 94/100\n",
            "484/484 [==============================] - 46s 96ms/step - loss: 1.1945 - accuracy: 0.7957\n",
            "Epoch 95/100\n",
            "484/484 [==============================] - 47s 97ms/step - loss: 1.1671 - accuracy: 0.8003\n",
            "Epoch 96/100\n",
            "484/484 [==============================] - 48s 99ms/step - loss: 1.1811 - accuracy: 0.7969\n",
            "Epoch 97/100\n",
            "484/484 [==============================] - 48s 98ms/step - loss: 1.1558 - accuracy: 0.8058\n",
            "Epoch 98/100\n",
            "484/484 [==============================] - 48s 99ms/step - loss: 1.1437 - accuracy: 0.8039\n",
            "Epoch 99/100\n",
            "484/484 [==============================] - 48s 99ms/step - loss: 1.1324 - accuracy: 0.8108\n",
            "Epoch 100/100\n",
            "484/484 [==============================] - 48s 99ms/step - loss: 1.1470 - accuracy: 0.8016\n"
          ],
          "name": "stdout"
        }
      ]
    },
    {
      "cell_type": "code",
      "metadata": {
        "colab": {
          "base_uri": "https://localhost:8080/",
          "height": 545
        },
        "id": "1fXTEO3GJ282",
        "outputId": "8fa8685a-cf9e-48d8-a85f-db692d5bf764"
      },
      "source": [
        "import matplotlib.pyplot as plt\n",
        "acc = history.history['accuracy']\n",
        "loss = history.history['loss']\n",
        "\n",
        "epochs = range(len(acc))\n",
        "\n",
        "plt.plot(epochs, acc, 'b', label='Training accuracy')\n",
        "plt.title('Training accuracy')\n",
        "\n",
        "plt.figure()\n",
        "\n",
        "plt.plot(epochs, loss, 'b', label='Training Loss')\n",
        "plt.title('Training loss')\n",
        "plt.legend()\n",
        "\n",
        "plt.show()"
      ],
      "execution_count": 6,
      "outputs": [
        {
          "output_type": "display_data",
          "data": {
            "image/png": "[encoded data removed]",
            "text/plain": [
              "<Figure size 432x288 with 1 Axes>"
            ]
          },
          "metadata": {
            "tags": [],
            "needs_background": "light"
          }
        },
        {
          "output_type": "display_data",
          "data": {
            "image/png": "[encoded data removed]",
            "text/plain": [
              "<Figure size 432x288 with 1 Axes>"
            ]
          },
          "metadata": {
            "tags": [],
            "needs_background": "light"
          }
        }
      ]
    },
    {
      "cell_type": "code",
      "metadata": {
        "colab": {
          "base_uri": "https://localhost:8080/"
        },
        "id": "6Vc6PHgxa6Hm",
        "outputId": "9dd1314f-d1a8-4ee6-8d6a-5ce728aa7e92"
      },
      "source": [
        "seed_text = \"Help me Obi Wan Kenobi, you're my only hope\"\n",
        "next_words = 100\n",
        "  \n",
        "for _ in range(next_words):\n",
        "\ttoken_list = tokenizer.texts_to_sequences([seed_text])[0]\n",
        "\ttoken_list = pad_sequences([token_list], maxlen=max_sequence_len-1, padding='pre')\n",
        "\tpredicted = model.predict_classes(token_list, verbose=0)\n",
        "\toutput_word = \"\"\n",
        "\tfor word, index in tokenizer.word_index.items():\n",
        "\t\tif index == predicted:\n",
        "\t\t\toutput_word = word\n",
        "\t\t\tbreak\n",
        "\tseed_text += \" \" + output_word\n",
        "print(seed_text)"
      ],
      "execution_count": 7,
      "outputs": [
        {
          "output_type": "stream",
          "text": [
            "/usr/local/lib/python3.7/dist-packages/tensorflow/python/keras/engine/sequential.py:450: UserWarning: `model.predict_classes()` is deprecated and will be removed after 2021-01-01. Please use instead:* `np.argmax(model.predict(x), axis=-1)`,   if your model does multi-class classification   (e.g. if it uses a `softmax` last-layer activation).* `(model.predict(x) > 0.5).astype(\"int32\")`,   if your model does binary classification   (e.g. if it uses a `sigmoid` last-layer activation).\n",
            "  warnings.warn('`model.predict_classes()` is deprecated and '\n"
          ],
          "name": "stderr"
        },
        {
          "output_type": "stream",
          "text": [
            "Help me Obi Wan Kenobi, you're my only hope and show her cross day you live bright bright live short appear minds to thine eye may be were one alone in my praise be true bright stay my tongue rehearse took from you ill rain past skill living held loss down true store grow back much hence rotten scope away confounds bad up walls ' lend back back me both mad were allay'd confounds thee more deem'd borne alone becomes me on things rare than his part doth hate must be spent shown brought of twain one heir ill doth day live bright be near slain view aside find\n"
          ],
          "name": "stdout"
        }
      ]
    }
  ]
}