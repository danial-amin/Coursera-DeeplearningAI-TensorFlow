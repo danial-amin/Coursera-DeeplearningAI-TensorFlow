{
  "nbformat": 4,
  "nbformat_minor": 0,
  "metadata": {
    "accelerator": "GPU",
    "colab": {
      "name": "Course 3 - Week 3 - Lesson 2c.ipynb",
      "provenance": [],
      "collapsed_sections": [],
      "toc_visible": true
    },
    "kernelspec": {
      "display_name": "Python 3",
      "language": "python",
      "name": "python3"
    },
    "language_info": {
      "codemirror_mode": {
        "name": "ipython",
        "version": 3
      },
      "file_extension": ".py",
      "mimetype": "text/x-python",
      "name": "python",
      "nbconvert_exporter": "python",
      "pygments_lexer": "ipython3",
      "version": "3.7.6"
    }
  },
  "cells": [
    {
      "cell_type": "code",
      "metadata": {
        "id": "zX4Kg8DUTKWO"
      },
      "source": [
        "#@title Licensed under the Apache License, Version 2.0 (the \"License\");\n",
        "# you may not use this file except in compliance with the License.\n",
        "# You may obtain a copy of the License at\n",
        "#\n",
        "# https://www.apache.org/licenses/LICENSE-2.0\n",
        "#\n",
        "# Unless required by applicable law or agreed to in writing, software\n",
        "# distributed under the License is distributed on an \"AS IS\" BASIS,\n",
        "# WITHOUT WARRANTIES OR CONDITIONS OF ANY KIND, either express or implied.\n",
        "# See the License for the specific language governing permissions and\n",
        "# limitations under the License."
      ],
      "execution_count": 1,
      "outputs": []
    },
    {
      "cell_type": "markdown",
      "metadata": {
        "id": "7CgeiZbvTLhG"
      },
      "source": [
        "<a href=\"https://colab.research.google.com/github/lmoroney/dlaicourse/blob/master/TensorFlow%20In%20Practice/Course%203%20-%20NLP/Course%203%20-%20Week%203%20-%20Lesson%202c.ipynb\" target=\"_parent\"><img src=\"https://colab.research.google.com/assets/colab-badge.svg\" alt=\"Open In Colab\"/></a>"
      ]
    },
    {
      "cell_type": "code",
      "metadata": {
        "colab": {
          "base_uri": "https://localhost:8080/"
        },
        "id": "jGwXGIXvFhXW",
        "outputId": "586f8d27-4f5f-496b-8fd1-b77c95e7f45e"
      },
      "source": [
        "import numpy as np\n",
        "\n",
        "import json\n",
        "import tensorflow as tf\n",
        "\n",
        "from tensorflow.keras.preprocessing.text import Tokenizer\n",
        "from tensorflow.keras.preprocessing.sequence import pad_sequences\n",
        "\n",
        "!wget --no-check-certificate \\\n",
        "    https://storage.googleapis.com/laurencemoroney-blog.appspot.com/sarcasm.json \\\n",
        "    -O /tmp/sarcasm.json\n",
        "\n",
        "vocab_size = 1000\n",
        "embedding_dim = 16\n",
        "max_length = 120\n",
        "trunc_type='post'\n",
        "padding_type='post'\n",
        "oov_tok = \"<OOV>\"\n",
        "training_size = 20000\n",
        "\n",
        "\n",
        "with open(\"/tmp/sarcasm.json\", 'r') as f:\n",
        "    datastore = json.load(f)\n",
        "\n",
        "\n",
        "sentences = []\n",
        "labels = []\n",
        "urls = []\n",
        "for item in datastore:\n",
        "    sentences.append(item['headline'])\n",
        "    labels.append(item['is_sarcastic'])\n",
        "\n",
        "training_sentences = sentences[0:training_size]\n",
        "testing_sentences = sentences[training_size:]\n",
        "training_labels = labels[0:training_size]\n",
        "testing_labels = labels[training_size:]\n",
        "\n",
        "tokenizer = Tokenizer(num_words=vocab_size, oov_token=oov_tok)\n",
        "tokenizer.fit_on_texts(training_sentences)\n",
        "\n",
        "word_index = tokenizer.word_index\n",
        "\n",
        "training_sequences = tokenizer.texts_to_sequences(training_sentences)\n",
        "training_padded = pad_sequences(training_sequences, maxlen=max_length, padding=padding_type, truncating=trunc_type)\n",
        "\n",
        "testing_sequences = tokenizer.texts_to_sequences(testing_sentences)\n",
        "testing_padded = pad_sequences(testing_sequences, maxlen=max_length, padding=padding_type, truncating=trunc_type)\n",
        "\n",
        "model = tf.keras.Sequential([\n",
        "    tf.keras.layers.Embedding(vocab_size, embedding_dim, input_length=max_length),\n",
        "    tf.keras.layers.Conv1D(128, 5, activation='relu'),\n",
        "    tf.keras.layers.GlobalMaxPooling1D(),\n",
        "    tf.keras.layers.Dense(24, activation='relu'),\n",
        "    tf.keras.layers.Dense(1, activation='sigmoid')\n",
        "])\n",
        "model.compile(loss='binary_crossentropy',optimizer='adam',metrics=['accuracy'])\n",
        "model.summary()\n",
        "\n",
        "num_epochs = 50\n",
        "\n",
        "training_padded = np.array(training_padded)\n",
        "training_labels = np.array(training_labels)\n",
        "testing_padded = np.array(testing_padded)\n",
        "testing_labels = np.array(testing_labels)\n",
        "\n",
        "history = model.fit(training_padded, training_labels, epochs=num_epochs, validation_data=(testing_padded, testing_labels), verbose=1)\n"
      ],
      "execution_count": 2,
      "outputs": [
        {
          "output_type": "stream",
          "text": [
            "--2021-05-21 14:27:59--  https://storage.googleapis.com/laurencemoroney-blog.appspot.com/sarcasm.json\n",
            "Resolving storage.googleapis.com (storage.googleapis.com)... 74.125.70.128, 74.125.69.128, 64.233.181.128, ...\n",
            "Connecting to storage.googleapis.com (storage.googleapis.com)|74.125.70.128|:443... connected.\n",
            "HTTP request sent, awaiting response... 200 OK\n",
            "Length: 5643545 (5.4M) [application/json]\n",
            "Saving to: ‘/tmp/sarcasm.json’\n",
            "\n",
            "\r/tmp/sarcasm.json     0%[                    ]       0  --.-KB/s               \r/tmp/sarcasm.json   100%[===================>]   5.38M  --.-KB/s    in 0.05s   \n",
            "\n",
            "2021-05-21 14:27:59 (106 MB/s) - ‘/tmp/sarcasm.json’ saved [5643545/5643545]\n",
            "\n",
            "Model: \"sequential\"\n",
            "_________________________________________________________________\n",
            "Layer (type)                 Output Shape              Param #   \n",
            "=================================================================\n",
            "embedding (Embedding)        (None, 120, 16)           16000     \n",
            "_________________________________________________________________\n",
            "conv1d (Conv1D)              (None, 116, 128)          10368     \n",
            "_________________________________________________________________\n",
            "global_max_pooling1d (Global (None, 128)               0         \n",
            "_________________________________________________________________\n",
            "dense (Dense)                (None, 24)                3096      \n",
            "_________________________________________________________________\n",
            "dense_1 (Dense)              (None, 1)                 25        \n",
            "=================================================================\n",
            "Total params: 29,489\n",
            "Trainable params: 29,489\n",
            "Non-trainable params: 0\n",
            "_________________________________________________________________\n",
            "Epoch 1/50\n",
            "625/625 [==============================] - 10s 14ms/step - loss: 0.5596 - accuracy: 0.6865 - val_loss: 0.4031 - val_accuracy: 0.8189\n",
            "Epoch 2/50\n",
            "625/625 [==============================] - 9s 14ms/step - loss: 0.3475 - accuracy: 0.8448 - val_loss: 0.4064 - val_accuracy: 0.8088\n",
            "Epoch 3/50\n",
            "625/625 [==============================] - 9s 14ms/step - loss: 0.3128 - accuracy: 0.8636 - val_loss: 0.3949 - val_accuracy: 0.8249\n",
            "Epoch 4/50\n",
            "625/625 [==============================] - 9s 14ms/step - loss: 0.2813 - accuracy: 0.8787 - val_loss: 0.4182 - val_accuracy: 0.8158\n",
            "Epoch 5/50\n",
            "625/625 [==============================] - 9s 14ms/step - loss: 0.2550 - accuracy: 0.8932 - val_loss: 0.4361 - val_accuracy: 0.8120\n",
            "Epoch 6/50\n",
            "625/625 [==============================] - 9s 14ms/step - loss: 0.2158 - accuracy: 0.9135 - val_loss: 0.4597 - val_accuracy: 0.8198\n",
            "Epoch 7/50\n",
            "625/625 [==============================] - 9s 14ms/step - loss: 0.1885 - accuracy: 0.9271 - val_loss: 0.4903 - val_accuracy: 0.8180\n",
            "Epoch 8/50\n",
            "625/625 [==============================] - 9s 14ms/step - loss: 0.1519 - accuracy: 0.9431 - val_loss: 0.5337 - val_accuracy: 0.8091\n",
            "Epoch 9/50\n",
            "625/625 [==============================] - 9s 14ms/step - loss: 0.1349 - accuracy: 0.9523 - val_loss: 0.6068 - val_accuracy: 0.8050\n",
            "Epoch 10/50\n",
            "625/625 [==============================] - 9s 14ms/step - loss: 0.1106 - accuracy: 0.9627 - val_loss: 0.6691 - val_accuracy: 0.8071\n",
            "Epoch 11/50\n",
            "625/625 [==============================] - 9s 14ms/step - loss: 0.0875 - accuracy: 0.9690 - val_loss: 0.7485 - val_accuracy: 0.8022\n",
            "Epoch 12/50\n",
            "625/625 [==============================] - 9s 14ms/step - loss: 0.0755 - accuracy: 0.9743 - val_loss: 0.8121 - val_accuracy: 0.7979\n",
            "Epoch 13/50\n",
            "625/625 [==============================] - 9s 14ms/step - loss: 0.0632 - accuracy: 0.9770 - val_loss: 0.8804 - val_accuracy: 0.7976\n",
            "Epoch 14/50\n",
            "625/625 [==============================] - 9s 14ms/step - loss: 0.0515 - accuracy: 0.9828 - val_loss: 0.9679 - val_accuracy: 0.7900\n",
            "Epoch 15/50\n",
            "625/625 [==============================] - 9s 14ms/step - loss: 0.0491 - accuracy: 0.9830 - val_loss: 1.1089 - val_accuracy: 0.7877\n",
            "Epoch 16/50\n",
            "625/625 [==============================] - 9s 14ms/step - loss: 0.0421 - accuracy: 0.9857 - val_loss: 1.1629 - val_accuracy: 0.7852\n",
            "Epoch 17/50\n",
            "625/625 [==============================] - 9s 14ms/step - loss: 0.0351 - accuracy: 0.9876 - val_loss: 1.1823 - val_accuracy: 0.7885\n",
            "Epoch 18/50\n",
            "625/625 [==============================] - 9s 14ms/step - loss: 0.0346 - accuracy: 0.9866 - val_loss: 1.2423 - val_accuracy: 0.7915\n",
            "Epoch 19/50\n",
            "625/625 [==============================] - 9s 14ms/step - loss: 0.0403 - accuracy: 0.9853 - val_loss: 1.3062 - val_accuracy: 0.7848\n",
            "Epoch 20/50\n",
            "625/625 [==============================] - 9s 15ms/step - loss: 0.0374 - accuracy: 0.9858 - val_loss: 1.4030 - val_accuracy: 0.7831\n",
            "Epoch 21/50\n",
            "625/625 [==============================] - 9s 15ms/step - loss: 0.0326 - accuracy: 0.9869 - val_loss: 1.4936 - val_accuracy: 0.7812\n",
            "Epoch 22/50\n",
            "625/625 [==============================] - 9s 15ms/step - loss: 0.0263 - accuracy: 0.9892 - val_loss: 1.5666 - val_accuracy: 0.7921\n",
            "Epoch 23/50\n",
            "625/625 [==============================] - 9s 15ms/step - loss: 0.0252 - accuracy: 0.9904 - val_loss: 1.5936 - val_accuracy: 0.7837\n",
            "Epoch 24/50\n",
            "625/625 [==============================] - 9s 15ms/step - loss: 0.0270 - accuracy: 0.9887 - val_loss: 1.5905 - val_accuracy: 0.7912\n",
            "Epoch 25/50\n",
            "625/625 [==============================] - 9s 15ms/step - loss: 0.0269 - accuracy: 0.9895 - val_loss: 1.7123 - val_accuracy: 0.7857\n",
            "Epoch 26/50\n",
            "625/625 [==============================] - 9s 15ms/step - loss: 0.0253 - accuracy: 0.9902 - val_loss: 1.7277 - val_accuracy: 0.7910\n",
            "Epoch 27/50\n",
            "625/625 [==============================] - 9s 15ms/step - loss: 0.0221 - accuracy: 0.9918 - val_loss: 1.7135 - val_accuracy: 0.7925\n",
            "Epoch 28/50\n",
            "625/625 [==============================] - 9s 14ms/step - loss: 0.0263 - accuracy: 0.9895 - val_loss: 1.8248 - val_accuracy: 0.7833\n",
            "Epoch 29/50\n",
            "625/625 [==============================] - 9s 14ms/step - loss: 0.0236 - accuracy: 0.9900 - val_loss: 1.8202 - val_accuracy: 0.7854\n",
            "Epoch 30/50\n",
            "625/625 [==============================] - 9s 14ms/step - loss: 0.0202 - accuracy: 0.9910 - val_loss: 1.8999 - val_accuracy: 0.7830\n",
            "Epoch 31/50\n",
            "625/625 [==============================] - 9s 14ms/step - loss: 0.0224 - accuracy: 0.9910 - val_loss: 1.9968 - val_accuracy: 0.7891\n",
            "Epoch 32/50\n",
            "625/625 [==============================] - 9s 14ms/step - loss: 0.0209 - accuracy: 0.9912 - val_loss: 2.0781 - val_accuracy: 0.7885\n",
            "Epoch 33/50\n",
            "625/625 [==============================] - 9s 14ms/step - loss: 0.0197 - accuracy: 0.9919 - val_loss: 2.1055 - val_accuracy: 0.7851\n",
            "Epoch 34/50\n",
            "625/625 [==============================] - 9s 14ms/step - loss: 0.0206 - accuracy: 0.9911 - val_loss: 2.1706 - val_accuracy: 0.7840\n",
            "Epoch 35/50\n",
            "625/625 [==============================] - 9s 14ms/step - loss: 0.0229 - accuracy: 0.9900 - val_loss: 2.1920 - val_accuracy: 0.7825\n",
            "Epoch 36/50\n",
            "625/625 [==============================] - 9s 14ms/step - loss: 0.0247 - accuracy: 0.9899 - val_loss: 2.0916 - val_accuracy: 0.7860\n",
            "Epoch 37/50\n",
            "625/625 [==============================] - 9s 14ms/step - loss: 0.0239 - accuracy: 0.9902 - val_loss: 2.1784 - val_accuracy: 0.7855\n",
            "Epoch 38/50\n",
            "625/625 [==============================] - 9s 14ms/step - loss: 0.0183 - accuracy: 0.9924 - val_loss: 2.2615 - val_accuracy: 0.7824\n",
            "Epoch 39/50\n",
            "625/625 [==============================] - 9s 14ms/step - loss: 0.0190 - accuracy: 0.9913 - val_loss: 2.4182 - val_accuracy: 0.7854\n",
            "Epoch 40/50\n",
            "625/625 [==============================] - 9s 14ms/step - loss: 0.0209 - accuracy: 0.9910 - val_loss: 2.3823 - val_accuracy: 0.7855\n",
            "Epoch 41/50\n",
            "625/625 [==============================] - 9s 14ms/step - loss: 0.0185 - accuracy: 0.9907 - val_loss: 2.3160 - val_accuracy: 0.7815\n",
            "Epoch 42/50\n",
            "625/625 [==============================] - 9s 14ms/step - loss: 0.0179 - accuracy: 0.9925 - val_loss: 2.5504 - val_accuracy: 0.7857\n",
            "Epoch 43/50\n",
            "625/625 [==============================] - 9s 14ms/step - loss: 0.0185 - accuracy: 0.9919 - val_loss: 2.5380 - val_accuracy: 0.7864\n",
            "Epoch 44/50\n",
            "625/625 [==============================] - 9s 14ms/step - loss: 0.0210 - accuracy: 0.9905 - val_loss: 2.4391 - val_accuracy: 0.7921\n",
            "Epoch 45/50\n",
            "625/625 [==============================] - 9s 14ms/step - loss: 0.0241 - accuracy: 0.9888 - val_loss: 2.4275 - val_accuracy: 0.7846\n",
            "Epoch 46/50\n",
            "625/625 [==============================] - 9s 14ms/step - loss: 0.0234 - accuracy: 0.9902 - val_loss: 2.5372 - val_accuracy: 0.7869\n",
            "Epoch 47/50\n",
            "625/625 [==============================] - 9s 14ms/step - loss: 0.0182 - accuracy: 0.9915 - val_loss: 2.5294 - val_accuracy: 0.7854\n",
            "Epoch 48/50\n",
            "625/625 [==============================] - 9s 14ms/step - loss: 0.0195 - accuracy: 0.9916 - val_loss: 2.4729 - val_accuracy: 0.7845\n",
            "Epoch 49/50\n",
            "625/625 [==============================] - 9s 14ms/step - loss: 0.0206 - accuracy: 0.9910 - val_loss: 2.5504 - val_accuracy: 0.7770\n",
            "Epoch 50/50\n",
            "625/625 [==============================] - 9s 14ms/step - loss: 0.0166 - accuracy: 0.9933 - val_loss: 2.4834 - val_accuracy: 0.7886\n"
          ],
          "name": "stdout"
        }
      ]
    },
    {
      "cell_type": "code",
      "metadata": {
        "colab": {
          "base_uri": "https://localhost:8080/",
          "height": 542
        },
        "id": "g9DC6dmLF8DC",
        "outputId": "e1c72032-a261-4eb4-80f2-6a497058d885"
      },
      "source": [
        "import matplotlib.pyplot as plt\n",
        "\n",
        "\n",
        "def plot_graphs(history, string):\n",
        "  plt.plot(history.history[string])\n",
        "  plt.plot(history.history['val_'+string])\n",
        "  plt.xlabel(\"Epochs\")\n",
        "  plt.ylabel(string)\n",
        "  plt.legend([string, 'val_'+string])\n",
        "  plt.show()\n",
        "\n",
        "plot_graphs(history, 'accuracy')\n",
        "plot_graphs(history, 'loss')"
      ],
      "execution_count": 3,
      "outputs": [
        {
          "output_type": "display_data",
          "data": {
            "image/png": "[encoded data removed]",
            "text/plain": [
              "<Figure size 432x288 with 1 Axes>"
            ]
          },
          "metadata": {
            "tags": [],
            "needs_background": "light"
          }
        },
        {
          "output_type": "display_data",
          "data": {
            "image/png": "[encoded data removed]",
            "text/plain": [
              "<Figure size 432x288 with 1 Axes>"
            ]
          },
          "metadata": {
            "tags": [],
            "needs_background": "light"
          }
        }
      ]
    },
    {
      "cell_type": "code",
      "metadata": {
        "id": "7ZEZIUppGhdi"
      },
      "source": [
        "model.save(\"test.h5\")"
      ],
      "execution_count": 4,
      "outputs": []
    }
  ]
}