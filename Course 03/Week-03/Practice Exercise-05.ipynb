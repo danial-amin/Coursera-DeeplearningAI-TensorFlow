{
  "nbformat": 4,
  "nbformat_minor": 0,
  "metadata": {
    "accelerator": "GPU",
    "colab": {
      "name": "Course 3 - Week 3 - Lesson 2.ipynb",
      "provenance": [],
      "collapsed_sections": [],
      "toc_visible": true
    },
    "kernelspec": {
      "display_name": "Python 3",
      "language": "python",
      "name": "python3"
    },
    "language_info": {
      "codemirror_mode": {
        "name": "ipython",
        "version": 3
      },
      "file_extension": ".py",
      "mimetype": "text/x-python",
      "name": "python",
      "nbconvert_exporter": "python",
      "pygments_lexer": "ipython3",
      "version": "3.7.6"
    }
  },
  "cells": [
    {
      "cell_type": "code",
      "metadata": {
        "id": "zX4Kg8DUTKWO"
      },
      "source": [
        "#@title Licensed under the Apache License, Version 2.0 (the \"License\");\n",
        "# you may not use this file except in compliance with the License.\n",
        "# You may obtain a copy of the License at\n",
        "#\n",
        "# https://www.apache.org/licenses/LICENSE-2.0\n",
        "#\n",
        "# Unless required by applicable law or agreed to in writing, software\n",
        "# distributed under the License is distributed on an \"AS IS\" BASIS,\n",
        "# WITHOUT WARRANTIES OR CONDITIONS OF ANY KIND, either express or implied.\n",
        "# See the License for the specific language governing permissions and\n",
        "# limitations under the License."
      ],
      "execution_count": 1,
      "outputs": []
    },
    {
      "cell_type": "markdown",
      "metadata": {
        "id": "GTt8TAdVTLTj"
      },
      "source": [
        "<a href=\"https://colab.research.google.com/github/lmoroney/dlaicourse/blob/master/TensorFlow%20In%20Practice/Course%203%20-%20NLP/Course%203%20-%20Week%203%20-%20Lesson%202.ipynb\" target=\"_parent\"><img src=\"https://colab.research.google.com/assets/colab-badge.svg\" alt=\"Open In Colab\"/></a>"
      ]
    },
    {
      "cell_type": "code",
      "metadata": {
        "colab": {
          "base_uri": "https://localhost:8080/"
        },
        "id": "jGwXGIXvFhXW",
        "outputId": "a71fe59a-be4d-47f4-b7a4-f58d1a65853a"
      },
      "source": [
        "import numpy as np\n",
        "\n",
        "import json\n",
        "import tensorflow as tf\n",
        "\n",
        "from tensorflow.keras.preprocessing.text import Tokenizer\n",
        "from tensorflow.keras.preprocessing.sequence import pad_sequences\n",
        "\n",
        "!wget --no-check-certificate \\\n",
        "    https://storage.googleapis.com/laurencemoroney-blog.appspot.com/sarcasm.json \\\n",
        "    -O /tmp/sarcasm.json\n",
        "\n",
        "vocab_size = 1000\n",
        "embedding_dim = 16\n",
        "max_length = 120\n",
        "trunc_type='post'\n",
        "padding_type='post'\n",
        "oov_tok = \"<OOV>\"\n",
        "training_size = 20000\n",
        "\n",
        "\n",
        "with open(\"/tmp/sarcasm.json\", 'r') as f:\n",
        "    datastore = json.load(f)\n",
        "\n",
        "\n",
        "sentences = []\n",
        "labels = []\n",
        "urls = []\n",
        "for item in datastore:\n",
        "    sentences.append(item['headline'])\n",
        "    labels.append(item['is_sarcastic'])\n",
        "\n",
        "training_sentences = sentences[0:training_size]\n",
        "testing_sentences = sentences[training_size:]\n",
        "training_labels = labels[0:training_size]\n",
        "testing_labels = labels[training_size:]\n",
        "\n",
        "tokenizer = Tokenizer(num_words=vocab_size, oov_token=oov_tok)\n",
        "tokenizer.fit_on_texts(training_sentences)\n",
        "\n",
        "word_index = tokenizer.word_index\n",
        "\n",
        "training_sequences = tokenizer.texts_to_sequences(training_sentences)\n",
        "training_padded = pad_sequences(training_sequences, maxlen=max_length, padding=padding_type, truncating=trunc_type)\n",
        "\n",
        "testing_sequences = tokenizer.texts_to_sequences(testing_sentences)\n",
        "testing_padded = pad_sequences(testing_sequences, maxlen=max_length, padding=padding_type, truncating=trunc_type)\n",
        "\n",
        "model = tf.keras.Sequential([\n",
        "    tf.keras.layers.Embedding(vocab_size, embedding_dim, input_length=max_length),\n",
        "    tf.keras.layers.Bidirectional(tf.keras.layers.LSTM(32)),\n",
        "    tf.keras.layers.Dense(24, activation='relu'),\n",
        "    tf.keras.layers.Dense(1, activation='sigmoid')\n",
        "])\n",
        "model.compile(loss='binary_crossentropy',optimizer='adam',metrics=['accuracy'])\n",
        "model.summary()\n",
        "\n",
        "num_epochs = 50\n",
        "training_padded = np.array(training_padded)\n",
        "training_labels = np.array(training_labels)\n",
        "testing_padded = np.array(testing_padded)\n",
        "testing_labels = np.array(testing_labels)\n",
        "history = model.fit(training_padded, training_labels, epochs=num_epochs, validation_data=(testing_padded, testing_labels), verbose=1)\n"
      ],
      "execution_count": 2,
      "outputs": [
        {
          "output_type": "stream",
          "text": [
            "--2021-05-21 13:25:39--  https://storage.googleapis.com/laurencemoroney-blog.appspot.com/sarcasm.json\n",
            "Resolving storage.googleapis.com (storage.googleapis.com)... 172.217.219.128, 142.250.125.128, 142.250.136.128, ...\n",
            "Connecting to storage.googleapis.com (storage.googleapis.com)|172.217.219.128|:443... connected.\n",
            "HTTP request sent, awaiting response... 200 OK\n",
            "Length: 5643545 (5.4M) [application/json]\n",
            "Saving to: ‘/tmp/sarcasm.json’\n",
            "\n",
            "\r/tmp/sarcasm.json     0%[                    ]       0  --.-KB/s               \r/tmp/sarcasm.json   100%[===================>]   5.38M  --.-KB/s    in 0.04s   \n",
            "\n",
            "2021-05-21 13:25:39 (140 MB/s) - ‘/tmp/sarcasm.json’ saved [5643545/5643545]\n",
            "\n",
            "Model: \"sequential\"\n",
            "_________________________________________________________________\n",
            "Layer (type)                 Output Shape              Param #   \n",
            "=================================================================\n",
            "embedding (Embedding)        (None, 120, 16)           16000     \n",
            "_________________________________________________________________\n",
            "bidirectional (Bidirectional (None, 64)                12544     \n",
            "_________________________________________________________________\n",
            "dense (Dense)                (None, 24)                1560      \n",
            "_________________________________________________________________\n",
            "dense_1 (Dense)              (None, 1)                 25        \n",
            "=================================================================\n",
            "Total params: 30,129\n",
            "Trainable params: 30,129\n",
            "Non-trainable params: 0\n",
            "_________________________________________________________________\n",
            "Epoch 1/50\n",
            "625/625 [==============================] - 41s 61ms/step - loss: 0.5489 - accuracy: 0.6855 - val_loss: 0.3929 - val_accuracy: 0.8162\n",
            "Epoch 2/50\n",
            "625/625 [==============================] - 37s 60ms/step - loss: 0.3601 - accuracy: 0.8333 - val_loss: 0.3815 - val_accuracy: 0.8226\n",
            "Epoch 3/50\n",
            "625/625 [==============================] - 37s 59ms/step - loss: 0.3270 - accuracy: 0.8532 - val_loss: 0.3745 - val_accuracy: 0.8290\n",
            "Epoch 4/50\n",
            "625/625 [==============================] - 37s 59ms/step - loss: 0.3126 - accuracy: 0.8588 - val_loss: 0.3783 - val_accuracy: 0.8295\n",
            "Epoch 5/50\n",
            "625/625 [==============================] - 37s 59ms/step - loss: 0.2964 - accuracy: 0.8724 - val_loss: 0.3783 - val_accuracy: 0.8310\n",
            "Epoch 6/50\n",
            "625/625 [==============================] - 37s 59ms/step - loss: 0.2953 - accuracy: 0.8695 - val_loss: 0.3892 - val_accuracy: 0.8246\n",
            "Epoch 7/50\n",
            "625/625 [==============================] - 37s 59ms/step - loss: 0.2934 - accuracy: 0.8724 - val_loss: 0.3802 - val_accuracy: 0.8277\n",
            "Epoch 8/50\n",
            "625/625 [==============================] - 37s 60ms/step - loss: 0.2847 - accuracy: 0.8758 - val_loss: 0.3832 - val_accuracy: 0.8284\n",
            "Epoch 9/50\n",
            "625/625 [==============================] - 37s 60ms/step - loss: 0.2827 - accuracy: 0.8756 - val_loss: 0.4108 - val_accuracy: 0.8164\n",
            "Epoch 10/50\n",
            "625/625 [==============================] - 37s 59ms/step - loss: 0.2739 - accuracy: 0.8827 - val_loss: 0.3864 - val_accuracy: 0.8281\n",
            "Epoch 11/50\n",
            "625/625 [==============================] - 37s 59ms/step - loss: 0.2723 - accuracy: 0.8816 - val_loss: 0.4025 - val_accuracy: 0.8246\n",
            "Epoch 12/50\n",
            "625/625 [==============================] - 37s 59ms/step - loss: 0.2551 - accuracy: 0.8915 - val_loss: 0.4014 - val_accuracy: 0.8262\n",
            "Epoch 13/50\n",
            "625/625 [==============================] - 37s 60ms/step - loss: 0.2432 - accuracy: 0.8952 - val_loss: 0.3880 - val_accuracy: 0.8272\n",
            "Epoch 14/50\n",
            "625/625 [==============================] - 37s 59ms/step - loss: 0.2398 - accuracy: 0.9002 - val_loss: 0.4267 - val_accuracy: 0.8252\n",
            "Epoch 15/50\n",
            "625/625 [==============================] - 37s 60ms/step - loss: 0.2299 - accuracy: 0.9039 - val_loss: 0.4391 - val_accuracy: 0.8229\n",
            "Epoch 16/50\n",
            "625/625 [==============================] - 37s 59ms/step - loss: 0.2159 - accuracy: 0.9096 - val_loss: 0.4728 - val_accuracy: 0.8186\n",
            "Epoch 17/50\n",
            "625/625 [==============================] - 37s 59ms/step - loss: 0.2144 - accuracy: 0.9121 - val_loss: 0.4413 - val_accuracy: 0.8229\n",
            "Epoch 18/50\n",
            "625/625 [==============================] - 37s 59ms/step - loss: 0.1987 - accuracy: 0.9207 - val_loss: 0.4621 - val_accuracy: 0.8220\n",
            "Epoch 19/50\n",
            "625/625 [==============================] - 38s 60ms/step - loss: 0.1941 - accuracy: 0.9211 - val_loss: 0.4946 - val_accuracy: 0.8144\n",
            "Epoch 20/50\n",
            "625/625 [==============================] - 37s 60ms/step - loss: 0.1937 - accuracy: 0.9182 - val_loss: 0.5231 - val_accuracy: 0.8189\n",
            "Epoch 21/50\n",
            "625/625 [==============================] - 37s 60ms/step - loss: 0.1772 - accuracy: 0.9275 - val_loss: 0.5469 - val_accuracy: 0.8168\n",
            "Epoch 22/50\n",
            "625/625 [==============================] - 37s 60ms/step - loss: 0.1744 - accuracy: 0.9261 - val_loss: 0.6083 - val_accuracy: 0.8156\n",
            "Epoch 23/50\n",
            "625/625 [==============================] - 37s 60ms/step - loss: 0.1707 - accuracy: 0.9319 - val_loss: 0.5901 - val_accuracy: 0.8122\n",
            "Epoch 24/50\n",
            "625/625 [==============================] - 38s 60ms/step - loss: 0.1698 - accuracy: 0.9309 - val_loss: 0.5777 - val_accuracy: 0.8155\n",
            "Epoch 25/50\n",
            "625/625 [==============================] - 38s 60ms/step - loss: 0.1598 - accuracy: 0.9345 - val_loss: 0.5909 - val_accuracy: 0.8171\n",
            "Epoch 26/50\n",
            "625/625 [==============================] - 38s 60ms/step - loss: 0.1537 - accuracy: 0.9380 - val_loss: 0.6913 - val_accuracy: 0.8141\n",
            "Epoch 27/50\n",
            "625/625 [==============================] - 38s 60ms/step - loss: 0.1506 - accuracy: 0.9376 - val_loss: 0.7130 - val_accuracy: 0.8119\n",
            "Epoch 28/50\n",
            "625/625 [==============================] - 38s 60ms/step - loss: 0.1407 - accuracy: 0.9406 - val_loss: 0.7568 - val_accuracy: 0.8167\n",
            "Epoch 29/50\n",
            "625/625 [==============================] - 38s 61ms/step - loss: 0.1336 - accuracy: 0.9429 - val_loss: 0.7053 - val_accuracy: 0.8123\n",
            "Epoch 30/50\n",
            "625/625 [==============================] - 38s 60ms/step - loss: 0.1343 - accuracy: 0.9422 - val_loss: 0.7973 - val_accuracy: 0.8114\n",
            "Epoch 31/50\n",
            "625/625 [==============================] - 37s 60ms/step - loss: 0.1307 - accuracy: 0.9444 - val_loss: 0.7952 - val_accuracy: 0.8080\n",
            "Epoch 32/50\n",
            "625/625 [==============================] - 37s 60ms/step - loss: 0.1297 - accuracy: 0.9437 - val_loss: 0.8180 - val_accuracy: 0.8067\n",
            "Epoch 33/50\n",
            "625/625 [==============================] - 38s 61ms/step - loss: 0.1207 - accuracy: 0.9482 - val_loss: 0.8802 - val_accuracy: 0.8122\n",
            "Epoch 34/50\n",
            "625/625 [==============================] - 38s 61ms/step - loss: 0.1115 - accuracy: 0.9516 - val_loss: 0.9887 - val_accuracy: 0.8113\n",
            "Epoch 35/50\n",
            "625/625 [==============================] - 37s 60ms/step - loss: 0.1146 - accuracy: 0.9504 - val_loss: 0.9750 - val_accuracy: 0.8067\n",
            "Epoch 36/50\n",
            "625/625 [==============================] - 38s 60ms/step - loss: 0.1052 - accuracy: 0.9546 - val_loss: 1.0475 - val_accuracy: 0.8103\n",
            "Epoch 37/50\n",
            "625/625 [==============================] - 38s 60ms/step - loss: 0.0964 - accuracy: 0.9571 - val_loss: 1.1401 - val_accuracy: 0.8116\n",
            "Epoch 38/50\n",
            "625/625 [==============================] - 38s 60ms/step - loss: 0.1001 - accuracy: 0.9542 - val_loss: 1.1857 - val_accuracy: 0.8097\n",
            "Epoch 39/50\n",
            "625/625 [==============================] - 38s 61ms/step - loss: 0.0946 - accuracy: 0.9578 - val_loss: 1.2608 - val_accuracy: 0.8097\n",
            "Epoch 40/50\n",
            "625/625 [==============================] - 37s 60ms/step - loss: 0.0919 - accuracy: 0.9596 - val_loss: 1.2052 - val_accuracy: 0.8070\n",
            "Epoch 41/50\n",
            "625/625 [==============================] - 38s 61ms/step - loss: 0.0974 - accuracy: 0.9557 - val_loss: 1.2260 - val_accuracy: 0.8044\n",
            "Epoch 42/50\n",
            "625/625 [==============================] - 38s 61ms/step - loss: 0.0835 - accuracy: 0.9630 - val_loss: 1.3128 - val_accuracy: 0.8058\n",
            "Epoch 43/50\n",
            "625/625 [==============================] - 38s 61ms/step - loss: 0.0824 - accuracy: 0.9639 - val_loss: 1.3152 - val_accuracy: 0.8073\n",
            "Epoch 44/50\n",
            "625/625 [==============================] - 38s 61ms/step - loss: 0.0866 - accuracy: 0.9618 - val_loss: 1.3472 - val_accuracy: 0.8064\n",
            "Epoch 45/50\n",
            "625/625 [==============================] - 38s 61ms/step - loss: 0.0857 - accuracy: 0.9603 - val_loss: 1.3521 - val_accuracy: 0.8043\n",
            "Epoch 46/50\n",
            "625/625 [==============================] - 38s 61ms/step - loss: 0.0733 - accuracy: 0.9645 - val_loss: 1.4600 - val_accuracy: 0.8071\n",
            "Epoch 47/50\n",
            "625/625 [==============================] - 38s 60ms/step - loss: 0.0711 - accuracy: 0.9676 - val_loss: 1.5255 - val_accuracy: 0.8083\n",
            "Epoch 48/50\n",
            "625/625 [==============================] - 38s 60ms/step - loss: 0.0709 - accuracy: 0.9680 - val_loss: 1.5399 - val_accuracy: 0.8073\n",
            "Epoch 49/50\n",
            "625/625 [==============================] - 37s 60ms/step - loss: 0.0646 - accuracy: 0.9705 - val_loss: 1.6057 - val_accuracy: 0.8053\n",
            "Epoch 50/50\n",
            "625/625 [==============================] - 38s 60ms/step - loss: 0.0722 - accuracy: 0.9672 - val_loss: 1.4700 - val_accuracy: 0.8015\n"
          ],
          "name": "stdout"
        }
      ]
    },
    {
      "cell_type": "code",
      "metadata": {
        "colab": {
          "base_uri": "https://localhost:8080/",
          "height": 543
        },
        "id": "g9DC6dmLF8DC",
        "outputId": "31564eec-5469-4d5a-c12d-d4678aa7e83d"
      },
      "source": [
        "import matplotlib.pyplot as plt\n",
        "\n",
        "\n",
        "def plot_graphs(history, string):\n",
        "  plt.plot(history.history[string])\n",
        "  plt.plot(history.history['val_'+string])\n",
        "  plt.xlabel(\"Epochs\")\n",
        "  plt.ylabel(string)\n",
        "  plt.legend([string, 'val_'+string])\n",
        "  plt.show()\n",
        "\n",
        "plot_graphs(history, 'accuracy')\n",
        "plot_graphs(history, 'loss')"
      ],
      "execution_count": 3,
      "outputs": [
        {
          "output_type": "display_data",
          "data": {
            "image/png": "[encoded data removed]",
            "text/plain": [
              "<Figure size 432x288 with 1 Axes>"
            ]
          },
          "metadata": {
            "tags": [],
            "needs_background": "light"
          }
        },
        {
          "output_type": "display_data",
          "data": {
            "image/png": "[encoded data removed]",
            "text/plain": [
              "<Figure size 432x288 with 1 Axes>"
            ]
          },
          "metadata": {
            "tags": [],
            "needs_background": "light"
          }
        }
      ]
    },
    {
      "cell_type": "code",
      "metadata": {
        "id": "7ZEZIUppGhdi"
      },
      "source": [
        "model.save(\"test.h5\")"
      ],
      "execution_count": 5,
      "outputs": []
    }
  ]
}