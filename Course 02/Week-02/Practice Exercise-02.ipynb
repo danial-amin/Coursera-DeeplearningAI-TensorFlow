{
  "nbformat": 4,
  "nbformat_minor": 0,
  "metadata": {
    "accelerator": "GPU",
    "colab": {
      "name": "Course 2 - Part 4 - Lesson 4 - Notebook.ipynb",
      "provenance": [],
      "collapsed_sections": [],
      "toc_visible": true,
      "include_colab_link": true
    },
    "kernelspec": {
      "display_name": "Python 3",
      "name": "python3"
    }
  },
  "cells": [
    {
      "cell_type": "markdown",
      "metadata": {
        "id": "view-in-github",
        "colab_type": "text"
      },
      "source": [
        "<a href=\"https://colab.research.google.com/github/danial-amin/Coursera-DeeplearningAI-TensorFlow/blob/main/Course%202/Week-02/%20Practice%20Exercise-01.ipynb\" target=\"_parent\"><img src=\"https://colab.research.google.com/assets/colab-badge.svg\" alt=\"Open In Colab\"/></a>"
      ]
    },
    {
      "cell_type": "markdown",
      "metadata": {
        "id": "rX8mhOLljYeM"
      },
      "source": [
        "##### Copyright 2019 The TensorFlow Authors."
      ]
    },
    {
      "cell_type": "code",
      "metadata": {
        "cellView": "form",
        "id": "BZSlp3DAjdYf"
      },
      "source": [
        "#@title Licensed under the Apache License, Version 2.0 (the \"License\");\n",
        "# you may not use this file except in compliance with the License.\n",
        "# You may obtain a copy of the License at\n",
        "#\n",
        "# https://www.apache.org/licenses/LICENSE-2.0\n",
        "#\n",
        "# Unless required by applicable law or agreed to in writing, software\n",
        "# distributed under the License is distributed on an \"AS IS\" BASIS,\n",
        "# WITHOUT WARRANTIES OR CONDITIONS OF ANY KIND, either express or implied.\n",
        "# See the License for the specific language governing permissions and\n",
        "# limitations under the License."
      ],
      "execution_count": null,
      "outputs": []
    },
    {
      "cell_type": "code",
      "metadata": {
        "colab": {
          "base_uri": "https://localhost:8080/"
        },
        "id": "RXZT2UsyIVe_",
        "outputId": "94074dec-ca3c-4d14-cd2e-8f50194454d5"
      },
      "source": [
        "!wget --no-check-certificate \\\n",
        "    https://storage.googleapis.com/laurencemoroney-blog.appspot.com/horse-or-human.zip \\\n",
        "    -O /tmp/horse-or-human.zip\n",
        "\n",
        "!wget --no-check-certificate \\\n",
        "    https://storage.googleapis.com/laurencemoroney-blog.appspot.com/validation-horse-or-human.zip \\\n",
        "    -O /tmp/validation-horse-or-human.zip\n",
        "  \n",
        "import os\n",
        "import zipfile\n",
        "\n",
        "local_zip = '/tmp/horse-or-human.zip'\n",
        "zip_ref = zipfile.ZipFile(local_zip, 'r')\n",
        "zip_ref.extractall('/tmp/horse-or-human')\n",
        "local_zip = '/tmp/validation-horse-or-human.zip'\n",
        "zip_ref = zipfile.ZipFile(local_zip, 'r')\n",
        "zip_ref.extractall('/tmp/validation-horse-or-human')\n",
        "zip_ref.close()\n",
        "# Directory with our training horse pictures\n",
        "train_horse_dir = os.path.join('/tmp/horse-or-human/horses')\n",
        "\n",
        "# Directory with our training human pictures\n",
        "train_human_dir = os.path.join('/tmp/horse-or-human/humans')\n",
        "\n",
        "# Directory with our training horse pictures\n",
        "validation_horse_dir = os.path.join('/tmp/validation-horse-or-human/horses')\n",
        "\n",
        "# Directory with our training human pictures\n",
        "validation_human_dir = os.path.join('/tmp/validation-horse-or-human/humans')"
      ],
      "execution_count": 1,
      "outputs": [
        {
          "output_type": "stream",
          "text": [
            "--2021-05-17 09:57:42--  https://storage.googleapis.com/laurencemoroney-blog.appspot.com/horse-or-human.zip\n",
            "Resolving storage.googleapis.com (storage.googleapis.com)... 64.233.189.128, 108.177.125.128, 74.125.23.128, ...\n",
            "Connecting to storage.googleapis.com (storage.googleapis.com)|64.233.189.128|:443... connected.\n",
            "HTTP request sent, awaiting response... 200 OK\n",
            "Length: 149574867 (143M) [application/zip]\n",
            "Saving to: ‘/tmp/horse-or-human.zip’\n",
            "\n",
            "/tmp/horse-or-human 100%[===================>] 142.65M  35.1MB/s    in 4.1s    \n",
            "\n",
            "2021-05-17 09:57:47 (35.1 MB/s) - ‘/tmp/horse-or-human.zip’ saved [149574867/149574867]\n",
            "\n",
            "--2021-05-17 09:57:47--  https://storage.googleapis.com/laurencemoroney-blog.appspot.com/validation-horse-or-human.zip\n",
            "Resolving storage.googleapis.com (storage.googleapis.com)... 64.233.188.128, 64.233.189.128, 108.177.125.128, ...\n",
            "Connecting to storage.googleapis.com (storage.googleapis.com)|64.233.188.128|:443... connected.\n",
            "HTTP request sent, awaiting response... 200 OK\n",
            "Length: 11480187 (11M) [application/zip]\n",
            "Saving to: ‘/tmp/validation-horse-or-human.zip’\n",
            "\n",
            "/tmp/validation-hor 100%[===================>]  10.95M  23.0MB/s    in 0.5s    \n",
            "\n",
            "2021-05-17 09:57:49 (23.0 MB/s) - ‘/tmp/validation-horse-or-human.zip’ saved [11480187/11480187]\n",
            "\n"
          ],
          "name": "stdout"
        }
      ]
    },
    {
      "cell_type": "markdown",
      "metadata": {
        "id": "5oqBkNBJmtUv"
      },
      "source": [
        "## Building a Small Model from Scratch\n",
        "\n",
        "But before we continue, let's start defining the model:\n",
        "\n",
        "Step 1 will be to import tensorflow."
      ]
    },
    {
      "cell_type": "code",
      "metadata": {
        "id": "qvfZg3LQbD-5"
      },
      "source": [
        "import tensorflow as tf"
      ],
      "execution_count": 2,
      "outputs": []
    },
    {
      "cell_type": "markdown",
      "metadata": {
        "id": "BnhYCP4tdqjC"
      },
      "source": [
        "We then add convolutional layers as in the previous example, and flatten the final result to feed into the densely connected layers."
      ]
    },
    {
      "cell_type": "markdown",
      "metadata": {
        "id": "gokG5HKpdtzm"
      },
      "source": [
        "Finally we add the densely connected layers. \n",
        "\n",
        "Note that because we are facing a two-class classification problem, i.e. a *binary classification problem*, we will end our network with a [*sigmoid* activation](https://wikipedia.org/wiki/Sigmoid_function), so that the output of our network will be a single scalar between 0 and 1, encoding the probability that the current image is class 1 (as opposed to class 0)."
      ]
    },
    {
      "cell_type": "code",
      "metadata": {
        "id": "PixZ2s5QbYQ3"
      },
      "source": [
        "model = tf.keras.models.Sequential([\n",
        "    # Note the input shape is the desired size of the image 300x300 with 3 bytes color\n",
        "    # This is the first convolution\n",
        "    tf.keras.layers.Conv2D(16, (3,3), activation='relu', input_shape=(300, 300, 3)),\n",
        "    tf.keras.layers.MaxPooling2D(2, 2),\n",
        "    # The second convolution\n",
        "    tf.keras.layers.Conv2D(32, (3,3), activation='relu'),\n",
        "    tf.keras.layers.MaxPooling2D(2,2),\n",
        "    # The third convolution\n",
        "    tf.keras.layers.Conv2D(64, (3,3), activation='relu'),\n",
        "    tf.keras.layers.MaxPooling2D(2,2),\n",
        "    # The fourth convolution\n",
        "    tf.keras.layers.Conv2D(64, (3,3), activation='relu'),\n",
        "    tf.keras.layers.MaxPooling2D(2,2),\n",
        "    # The fifth convolution\n",
        "    tf.keras.layers.Conv2D(64, (3,3), activation='relu'),\n",
        "    tf.keras.layers.MaxPooling2D(2,2),\n",
        "    # Flatten the results to feed into a DNN\n",
        "    tf.keras.layers.Flatten(),\n",
        "    # 512 neuron hidden layer\n",
        "    tf.keras.layers.Dense(512, activation='relu'),\n",
        "    # Only 1 output neuron. It will contain a value from 0-1 where 0 for 1 class ('horses') and 1 for the other ('humans')\n",
        "    tf.keras.layers.Dense(1, activation='sigmoid')\n",
        "])"
      ],
      "execution_count": 3,
      "outputs": []
    },
    {
      "cell_type": "code",
      "metadata": {
        "id": "8DHWhFP_uhq3"
      },
      "source": [
        "from tensorflow.keras.optimizers import RMSprop\n",
        "\n",
        "model.compile(loss='binary_crossentropy',\n",
        "              optimizer=RMSprop(lr=1e-4),\n",
        "              metrics=['accuracy'])"
      ],
      "execution_count": 4,
      "outputs": []
    },
    {
      "cell_type": "code",
      "metadata": {
        "colab": {
          "base_uri": "https://localhost:8080/"
        },
        "id": "ClebU9NJg99G",
        "outputId": "cc4dc3da-233d-4311-e9ab-6163c7c05582"
      },
      "source": [
        "from tensorflow.keras.preprocessing.image import ImageDataGenerator\n",
        "\n",
        "# All images will be rescaled by 1./255\n",
        "train_datagen = ImageDataGenerator(\n",
        "      rescale=1./255,\n",
        "      rotation_range=40,\n",
        "      width_shift_range=0.2,\n",
        "      height_shift_range=0.2,\n",
        "      shear_range=0.2,\n",
        "      zoom_range=0.2,\n",
        "      horizontal_flip=True,\n",
        "      fill_mode='nearest')\n",
        "\n",
        "validation_datagen = ImageDataGenerator(rescale=1/255)\n",
        "\n",
        "# Flow training images in batches of 128 using train_datagen generator\n",
        "train_generator = train_datagen.flow_from_directory(\n",
        "        '/tmp/horse-or-human/',  # This is the source directory for training images\n",
        "        target_size=(300, 300),  # All images will be resized to 150x150\n",
        "        batch_size=128,\n",
        "        # Since we use binary_crossentropy loss, we need binary labels\n",
        "        class_mode='binary')\n",
        "\n",
        "# Flow training images in batches of 128 using train_datagen generator\n",
        "validation_generator = validation_datagen.flow_from_directory(\n",
        "        '/tmp/validation-horse-or-human/',  # This is the source directory for training images\n",
        "        target_size=(300, 300),  # All images will be resized to 150x150\n",
        "        batch_size=32,\n",
        "        # Since we use binary_crossentropy loss, we need binary labels\n",
        "        class_mode='binary')"
      ],
      "execution_count": 5,
      "outputs": [
        {
          "output_type": "stream",
          "text": [
            "Found 1027 images belonging to 2 classes.\n",
            "Found 256 images belonging to 2 classes.\n"
          ],
          "name": "stdout"
        }
      ]
    },
    {
      "cell_type": "code",
      "metadata": {
        "colab": {
          "base_uri": "https://localhost:8080/"
        },
        "id": "Fb1_lgobv81m",
        "outputId": "e73cc2c1-a137-432b-c1ce-d12280072135"
      },
      "source": [
        "history = model.fit(\n",
        "      train_generator,\n",
        "      steps_per_epoch=8,  \n",
        "      epochs=100,\n",
        "      verbose=1,\n",
        "      validation_data = validation_generator,\n",
        "      validation_steps=8)"
      ],
      "execution_count": 6,
      "outputs": [
        {
          "output_type": "stream",
          "text": [
            "Epoch 1/100\n",
            "8/8 [==============================] - 50s 2s/step - loss: 0.6920 - accuracy: 0.5452 - val_loss: 0.6844 - val_accuracy: 0.5000\n",
            "Epoch 2/100\n",
            "8/8 [==============================] - 21s 3s/step - loss: 0.6752 - accuracy: 0.5729 - val_loss: 0.6415 - val_accuracy: 0.5859\n",
            "Epoch 3/100\n",
            "8/8 [==============================] - 21s 3s/step - loss: 0.6638 - accuracy: 0.6234 - val_loss: 0.5939 - val_accuracy: 0.7969\n",
            "Epoch 4/100\n",
            "8/8 [==============================] - 23s 3s/step - loss: 0.6246 - accuracy: 0.7067 - val_loss: 0.5868 - val_accuracy: 0.6367\n",
            "Epoch 5/100\n",
            "8/8 [==============================] - 22s 3s/step - loss: 0.6257 - accuracy: 0.6535 - val_loss: 0.6322 - val_accuracy: 0.5391\n",
            "Epoch 6/100\n",
            "8/8 [==============================] - 21s 3s/step - loss: 0.5857 - accuracy: 0.7133 - val_loss: 0.6793 - val_accuracy: 0.5312\n",
            "Epoch 7/100\n",
            "8/8 [==============================] - 24s 3s/step - loss: 0.5749 - accuracy: 0.7106 - val_loss: 0.5448 - val_accuracy: 0.6602\n",
            "Epoch 8/100\n",
            "8/8 [==============================] - 21s 3s/step - loss: 0.6145 - accuracy: 0.6881 - val_loss: 0.6217 - val_accuracy: 0.6016\n",
            "Epoch 9/100\n",
            "8/8 [==============================] - 21s 3s/step - loss: 0.5389 - accuracy: 0.7489 - val_loss: 0.5999 - val_accuracy: 0.6250\n",
            "Epoch 10/100\n",
            "8/8 [==============================] - 21s 3s/step - loss: 0.5137 - accuracy: 0.7610 - val_loss: 1.8159 - val_accuracy: 0.5000\n",
            "Epoch 11/100\n",
            "8/8 [==============================] - 21s 3s/step - loss: 0.6747 - accuracy: 0.6415 - val_loss: 0.6086 - val_accuracy: 0.6445\n",
            "Epoch 12/100\n",
            "8/8 [==============================] - 21s 3s/step - loss: 0.5089 - accuracy: 0.7621 - val_loss: 0.5243 - val_accuracy: 0.7266\n",
            "Epoch 13/100\n",
            "8/8 [==============================] - 21s 3s/step - loss: 0.4735 - accuracy: 0.7768 - val_loss: 0.7629 - val_accuracy: 0.6367\n",
            "Epoch 14/100\n",
            "8/8 [==============================] - 21s 3s/step - loss: 0.4666 - accuracy: 0.7796 - val_loss: 2.0637 - val_accuracy: 0.5000\n",
            "Epoch 15/100\n",
            "8/8 [==============================] - 21s 3s/step - loss: 0.6182 - accuracy: 0.6937 - val_loss: 0.9970 - val_accuracy: 0.5742\n",
            "Epoch 16/100\n",
            "8/8 [==============================] - 21s 3s/step - loss: 0.4428 - accuracy: 0.8161 - val_loss: 0.8862 - val_accuracy: 0.6289\n",
            "Epoch 17/100\n",
            "8/8 [==============================] - 21s 3s/step - loss: 0.4539 - accuracy: 0.7982 - val_loss: 0.7331 - val_accuracy: 0.6836\n",
            "Epoch 18/100\n",
            "8/8 [==============================] - 22s 3s/step - loss: 0.4820 - accuracy: 0.7527 - val_loss: 0.9289 - val_accuracy: 0.6367\n",
            "Epoch 19/100\n",
            "8/8 [==============================] - 21s 3s/step - loss: 0.4684 - accuracy: 0.7842 - val_loss: 0.7860 - val_accuracy: 0.6523\n",
            "Epoch 20/100\n",
            "8/8 [==============================] - 21s 3s/step - loss: 0.4194 - accuracy: 0.8068 - val_loss: 1.2161 - val_accuracy: 0.5898\n",
            "Epoch 21/100\n",
            "8/8 [==============================] - 21s 3s/step - loss: 0.3952 - accuracy: 0.8303 - val_loss: 0.7148 - val_accuracy: 0.7227\n",
            "Epoch 22/100\n",
            "8/8 [==============================] - 21s 3s/step - loss: 0.4321 - accuracy: 0.7899 - val_loss: 1.2038 - val_accuracy: 0.5938\n",
            "Epoch 23/100\n",
            "8/8 [==============================] - 21s 3s/step - loss: 0.4090 - accuracy: 0.8211 - val_loss: 1.4313 - val_accuracy: 0.5820\n",
            "Epoch 24/100\n",
            "8/8 [==============================] - 21s 3s/step - loss: 0.3960 - accuracy: 0.8271 - val_loss: 1.8938 - val_accuracy: 0.5195\n",
            "Epoch 25/100\n",
            "8/8 [==============================] - 21s 3s/step - loss: 0.4612 - accuracy: 0.7692 - val_loss: 1.2655 - val_accuracy: 0.5977\n",
            "Epoch 26/100\n",
            "8/8 [==============================] - 21s 3s/step - loss: 0.4124 - accuracy: 0.8028 - val_loss: 1.3153 - val_accuracy: 0.5977\n",
            "Epoch 27/100\n",
            "8/8 [==============================] - 21s 3s/step - loss: 0.3659 - accuracy: 0.8352 - val_loss: 1.3014 - val_accuracy: 0.5977\n",
            "Epoch 28/100\n",
            "8/8 [==============================] - 21s 3s/step - loss: 0.3747 - accuracy: 0.8453 - val_loss: 0.2984 - val_accuracy: 0.8828\n",
            "Epoch 29/100\n",
            "8/8 [==============================] - 21s 3s/step - loss: 0.7718 - accuracy: 0.7376 - val_loss: 1.0106 - val_accuracy: 0.6758\n",
            "Epoch 30/100\n",
            "8/8 [==============================] - 21s 3s/step - loss: 0.4044 - accuracy: 0.8224 - val_loss: 1.3599 - val_accuracy: 0.6016\n",
            "Epoch 31/100\n",
            "8/8 [==============================] - 21s 3s/step - loss: 0.3461 - accuracy: 0.8538 - val_loss: 1.2209 - val_accuracy: 0.6445\n",
            "Epoch 32/100\n",
            "8/8 [==============================] - 21s 3s/step - loss: 0.3627 - accuracy: 0.8226 - val_loss: 1.2471 - val_accuracy: 0.6133\n",
            "Epoch 33/100\n",
            "8/8 [==============================] - 21s 3s/step - loss: 0.4160 - accuracy: 0.8204 - val_loss: 1.1811 - val_accuracy: 0.6367\n",
            "Epoch 34/100\n",
            "8/8 [==============================] - 21s 3s/step - loss: 0.3504 - accuracy: 0.8453 - val_loss: 1.1582 - val_accuracy: 0.6250\n",
            "Epoch 35/100\n",
            "8/8 [==============================] - 21s 3s/step - loss: 0.4456 - accuracy: 0.7683 - val_loss: 1.5021 - val_accuracy: 0.5938\n",
            "Epoch 36/100\n",
            "8/8 [==============================] - 21s 3s/step - loss: 0.2989 - accuracy: 0.8863 - val_loss: 1.5779 - val_accuracy: 0.5820\n",
            "Epoch 37/100\n",
            "8/8 [==============================] - 21s 3s/step - loss: 0.3286 - accuracy: 0.8591 - val_loss: 1.0819 - val_accuracy: 0.6523\n",
            "Epoch 38/100\n",
            "8/8 [==============================] - 21s 3s/step - loss: 0.3033 - accuracy: 0.8792 - val_loss: 1.7856 - val_accuracy: 0.5742\n",
            "Epoch 39/100\n",
            "8/8 [==============================] - 24s 3s/step - loss: 0.3290 - accuracy: 0.8656 - val_loss: 1.8174 - val_accuracy: 0.5742\n",
            "Epoch 40/100\n",
            "8/8 [==============================] - 21s 3s/step - loss: 0.3132 - accuracy: 0.8717 - val_loss: 1.8509 - val_accuracy: 0.5898\n",
            "Epoch 41/100\n",
            "8/8 [==============================] - 21s 3s/step - loss: 0.3514 - accuracy: 0.8608 - val_loss: 1.1933 - val_accuracy: 0.6484\n",
            "Epoch 42/100\n",
            "8/8 [==============================] - 21s 3s/step - loss: 0.3056 - accuracy: 0.8860 - val_loss: 1.4560 - val_accuracy: 0.6328\n",
            "Epoch 43/100\n",
            "8/8 [==============================] - 21s 3s/step - loss: 0.3118 - accuracy: 0.8623 - val_loss: 1.6896 - val_accuracy: 0.6016\n",
            "Epoch 44/100\n",
            "8/8 [==============================] - 21s 3s/step - loss: 0.3431 - accuracy: 0.8484 - val_loss: 1.6966 - val_accuracy: 0.6133\n",
            "Epoch 45/100\n",
            "8/8 [==============================] - 21s 3s/step - loss: 0.3167 - accuracy: 0.8600 - val_loss: 1.4666 - val_accuracy: 0.6328\n",
            "Epoch 46/100\n",
            "8/8 [==============================] - 21s 3s/step - loss: 0.2919 - accuracy: 0.8787 - val_loss: 2.1352 - val_accuracy: 0.5703\n",
            "Epoch 47/100\n",
            "8/8 [==============================] - 21s 3s/step - loss: 0.2675 - accuracy: 0.9059 - val_loss: 1.1521 - val_accuracy: 0.6992\n",
            "Epoch 48/100\n",
            "8/8 [==============================] - 21s 3s/step - loss: 0.3646 - accuracy: 0.8203 - val_loss: 1.6250 - val_accuracy: 0.6406\n",
            "Epoch 49/100\n",
            "8/8 [==============================] - 21s 3s/step - loss: 0.5088 - accuracy: 0.8301 - val_loss: 1.3000 - val_accuracy: 0.6406\n",
            "Epoch 50/100\n",
            "8/8 [==============================] - 21s 3s/step - loss: 0.2775 - accuracy: 0.9066 - val_loss: 1.5462 - val_accuracy: 0.6250\n",
            "Epoch 51/100\n",
            "8/8 [==============================] - 21s 3s/step - loss: 0.2778 - accuracy: 0.8969 - val_loss: 1.8867 - val_accuracy: 0.5898\n",
            "Epoch 52/100\n",
            "8/8 [==============================] - 21s 3s/step - loss: 0.2730 - accuracy: 0.8811 - val_loss: 1.5663 - val_accuracy: 0.6484\n",
            "Epoch 53/100\n",
            "8/8 [==============================] - 21s 3s/step - loss: 0.3450 - accuracy: 0.8668 - val_loss: 1.5589 - val_accuracy: 0.6328\n",
            "Epoch 54/100\n",
            "8/8 [==============================] - 21s 3s/step - loss: 0.2895 - accuracy: 0.8869 - val_loss: 1.5815 - val_accuracy: 0.6406\n",
            "Epoch 55/100\n",
            "8/8 [==============================] - 21s 3s/step - loss: 0.2576 - accuracy: 0.8884 - val_loss: 1.7317 - val_accuracy: 0.5898\n",
            "Epoch 56/100\n",
            "8/8 [==============================] - 21s 3s/step - loss: 0.2529 - accuracy: 0.9041 - val_loss: 1.6548 - val_accuracy: 0.6289\n",
            "Epoch 57/100\n",
            "8/8 [==============================] - 21s 3s/step - loss: 0.2500 - accuracy: 0.8989 - val_loss: 1.1015 - val_accuracy: 0.6992\n",
            "Epoch 58/100\n",
            "8/8 [==============================] - 21s 3s/step - loss: 0.2524 - accuracy: 0.9090 - val_loss: 1.8389 - val_accuracy: 0.5938\n",
            "Epoch 59/100\n",
            "8/8 [==============================] - 21s 3s/step - loss: 0.2140 - accuracy: 0.9203 - val_loss: 0.9246 - val_accuracy: 0.7539\n",
            "Epoch 60/100\n",
            "8/8 [==============================] - 21s 3s/step - loss: 0.4387 - accuracy: 0.7971 - val_loss: 1.6875 - val_accuracy: 0.6406\n",
            "Epoch 61/100\n",
            "8/8 [==============================] - 21s 3s/step - loss: 0.2600 - accuracy: 0.8895 - val_loss: 2.0505 - val_accuracy: 0.6094\n",
            "Epoch 62/100\n",
            "8/8 [==============================] - 21s 3s/step - loss: 0.2258 - accuracy: 0.9102 - val_loss: 1.4194 - val_accuracy: 0.6836\n",
            "Epoch 63/100\n",
            "8/8 [==============================] - 23s 3s/step - loss: 0.2424 - accuracy: 0.8908 - val_loss: 1.0894 - val_accuracy: 0.7109\n",
            "Epoch 64/100\n",
            "8/8 [==============================] - 21s 3s/step - loss: 0.2249 - accuracy: 0.9157 - val_loss: 2.5903 - val_accuracy: 0.5703\n",
            "Epoch 65/100\n",
            "8/8 [==============================] - 21s 3s/step - loss: 0.2587 - accuracy: 0.8925 - val_loss: 1.9294 - val_accuracy: 0.6172\n",
            "Epoch 66/100\n",
            "8/8 [==============================] - 21s 3s/step - loss: 0.1805 - accuracy: 0.9404 - val_loss: 0.8245 - val_accuracy: 0.7578\n",
            "Epoch 67/100\n",
            "8/8 [==============================] - 21s 3s/step - loss: 0.3298 - accuracy: 0.8296 - val_loss: 1.5510 - val_accuracy: 0.6641\n",
            "Epoch 68/100\n",
            "8/8 [==============================] - 23s 3s/step - loss: 0.2061 - accuracy: 0.9180 - val_loss: 1.7090 - val_accuracy: 0.6602\n",
            "Epoch 69/100\n",
            "8/8 [==============================] - 21s 3s/step - loss: 0.3314 - accuracy: 0.8808 - val_loss: 1.7818 - val_accuracy: 0.6484\n",
            "Epoch 70/100\n",
            "8/8 [==============================] - 21s 3s/step - loss: 0.2010 - accuracy: 0.9218 - val_loss: 1.9555 - val_accuracy: 0.6367\n",
            "Epoch 71/100\n",
            "8/8 [==============================] - 21s 3s/step - loss: 0.4934 - accuracy: 0.7840 - val_loss: 2.0928 - val_accuracy: 0.6172\n",
            "Epoch 72/100\n",
            "8/8 [==============================] - 21s 3s/step - loss: 0.1895 - accuracy: 0.9197 - val_loss: 0.8062 - val_accuracy: 0.7656\n",
            "Epoch 73/100\n",
            "8/8 [==============================] - 21s 3s/step - loss: 0.2338 - accuracy: 0.8850 - val_loss: 1.6571 - val_accuracy: 0.6523\n",
            "Epoch 74/100\n",
            "8/8 [==============================] - 23s 3s/step - loss: 0.1573 - accuracy: 0.9339 - val_loss: 3.3156 - val_accuracy: 0.5430\n",
            "Epoch 75/100\n",
            "8/8 [==============================] - 21s 3s/step - loss: 0.2572 - accuracy: 0.8933 - val_loss: 1.6994 - val_accuracy: 0.6523\n",
            "Epoch 76/100\n",
            "8/8 [==============================] - 21s 3s/step - loss: 0.1690 - accuracy: 0.9400 - val_loss: 2.2016 - val_accuracy: 0.6289\n",
            "Epoch 77/100\n",
            "8/8 [==============================] - 21s 3s/step - loss: 0.3447 - accuracy: 0.8946 - val_loss: 1.8315 - val_accuracy: 0.6367\n",
            "Epoch 78/100\n",
            "8/8 [==============================] - 21s 3s/step - loss: 0.1911 - accuracy: 0.9263 - val_loss: 2.3666 - val_accuracy: 0.6211\n",
            "Epoch 79/100\n",
            "8/8 [==============================] - 21s 3s/step - loss: 0.1607 - accuracy: 0.9370 - val_loss: 1.4898 - val_accuracy: 0.7148\n",
            "Epoch 80/100\n",
            "8/8 [==============================] - 21s 3s/step - loss: 0.2424 - accuracy: 0.8948 - val_loss: 1.5635 - val_accuracy: 0.6953\n",
            "Epoch 81/100\n",
            "8/8 [==============================] - 21s 3s/step - loss: 0.1886 - accuracy: 0.9259 - val_loss: 0.9447 - val_accuracy: 0.7617\n",
            "Epoch 82/100\n",
            "8/8 [==============================] - 21s 3s/step - loss: 0.2555 - accuracy: 0.8999 - val_loss: 2.0437 - val_accuracy: 0.6406\n",
            "Epoch 83/100\n",
            "8/8 [==============================] - 21s 3s/step - loss: 0.1752 - accuracy: 0.9367 - val_loss: 1.7191 - val_accuracy: 0.6406\n",
            "Epoch 84/100\n",
            "8/8 [==============================] - 21s 3s/step - loss: 0.1918 - accuracy: 0.9207 - val_loss: 3.2983 - val_accuracy: 0.5625\n",
            "Epoch 85/100\n",
            "8/8 [==============================] - 21s 3s/step - loss: 0.1838 - accuracy: 0.9195 - val_loss: 3.9648 - val_accuracy: 0.5430\n",
            "Epoch 86/100\n",
            "8/8 [==============================] - 21s 3s/step - loss: 0.2402 - accuracy: 0.9019 - val_loss: 2.2882 - val_accuracy: 0.6250\n",
            "Epoch 87/100\n",
            "8/8 [==============================] - 21s 3s/step - loss: 0.1902 - accuracy: 0.9065 - val_loss: 3.0540 - val_accuracy: 0.5781\n",
            "Epoch 88/100\n",
            "8/8 [==============================] - 21s 3s/step - loss: 0.2195 - accuracy: 0.9022 - val_loss: 2.1259 - val_accuracy: 0.6289\n",
            "Epoch 89/100\n",
            "8/8 [==============================] - 21s 3s/step - loss: 0.1755 - accuracy: 0.9281 - val_loss: 3.1942 - val_accuracy: 0.5508\n",
            "Epoch 90/100\n",
            "8/8 [==============================] - 21s 3s/step - loss: 0.2480 - accuracy: 0.8979 - val_loss: 2.6873 - val_accuracy: 0.5977\n",
            "Epoch 91/100\n",
            "8/8 [==============================] - 21s 3s/step - loss: 0.1897 - accuracy: 0.9334 - val_loss: 2.9756 - val_accuracy: 0.5859\n",
            "Epoch 92/100\n",
            "8/8 [==============================] - 21s 3s/step - loss: 0.1464 - accuracy: 0.9444 - val_loss: 2.5705 - val_accuracy: 0.6133\n",
            "Epoch 93/100\n",
            "8/8 [==============================] - 21s 3s/step - loss: 0.1353 - accuracy: 0.9521 - val_loss: 1.4131 - val_accuracy: 0.7227\n",
            "Epoch 94/100\n",
            "8/8 [==============================] - 21s 3s/step - loss: 0.1940 - accuracy: 0.9193 - val_loss: 3.2245 - val_accuracy: 0.5859\n",
            "Epoch 95/100\n",
            "8/8 [==============================] - 21s 3s/step - loss: 0.2310 - accuracy: 0.8903 - val_loss: 2.2360 - val_accuracy: 0.6328\n",
            "Epoch 96/100\n",
            "8/8 [==============================] - 21s 3s/step - loss: 0.1366 - accuracy: 0.9471 - val_loss: 3.4647 - val_accuracy: 0.5586\n",
            "Epoch 97/100\n",
            "8/8 [==============================] - 21s 3s/step - loss: 0.1459 - accuracy: 0.9519 - val_loss: 3.7336 - val_accuracy: 0.5586\n",
            "Epoch 98/100\n",
            "8/8 [==============================] - 21s 3s/step - loss: 0.1926 - accuracy: 0.9166 - val_loss: 2.2189 - val_accuracy: 0.6289\n",
            "Epoch 99/100\n",
            "8/8 [==============================] - 21s 3s/step - loss: 0.1455 - accuracy: 0.9467 - val_loss: 3.7191 - val_accuracy: 0.5469\n",
            "Epoch 100/100\n",
            "8/8 [==============================] - 23s 3s/step - loss: 0.1713 - accuracy: 0.9262 - val_loss: 2.2072 - val_accuracy: 0.6289\n"
          ],
          "name": "stdout"
        }
      ]
    },
    {
      "cell_type": "code",
      "metadata": {
        "colab": {
          "base_uri": "https://localhost:8080/",
          "height": 545
        },
        "id": "7zNPRWOVJdOH",
        "outputId": "e5054f56-148b-470a-f44b-a60080e28d8e"
      },
      "source": [
        "import matplotlib.pyplot as plt\n",
        "acc = history.history['accuracy']\n",
        "val_acc = history.history['val_accuracy']\n",
        "loss = history.history['loss']\n",
        "val_loss = history.history['val_loss']\n",
        "\n",
        "epochs = range(len(acc))\n",
        "\n",
        "plt.plot(epochs, acc, 'r', label='Training accuracy')\n",
        "plt.plot(epochs, val_acc, 'b', label='Validation accuracy')\n",
        "plt.title('Training and validation accuracy')\n",
        "\n",
        "plt.figure()\n",
        "\n",
        "plt.plot(epochs, loss, 'r', label='Training Loss')\n",
        "plt.plot(epochs, val_loss, 'b', label='Validation Loss')\n",
        "plt.title('Training and validation loss')\n",
        "plt.legend()\n",
        "\n",
        "plt.show()"
      ],
      "execution_count": 7,
      "outputs": [
        {
          "output_type": "display_data",
          "data": {
            "image/png": "[encoded data removed]",
            "text/plain": [
              "<Figure size 432x288 with 1 Axes>"
            ]
          },
          "metadata": {
            "tags": [],
            "needs_background": "light"
          }
        },
        {
          "output_type": "display_data",
          "data": {
            "image/png": "[encoded data removed]",
            "text/plain": [
              "<Figure size 432x288 with 1 Axes>"
            ]
          },
          "metadata": {
            "tags": [],
            "needs_background": "light"
          }
        }
      ]
    }
  ]
}
